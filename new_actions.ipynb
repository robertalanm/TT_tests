{
  "nbformat": 4,
  "nbformat_minor": 0,
  "metadata": {
    "kernelspec": {
      "name": "python3",
      "display_name": "Python 3"
    },
    "language_info": {
      "codemirror_mode": {
        "name": "ipython",
        "version": 3
      },
      "file_extension": ".py",
      "mimetype": "text/x-python",
      "name": "python",
      "nbconvert_exporter": "python",
      "pygments_lexer": "ipython3",
      "version": "3.7.4"
    },
    "colab": {
      "name": "new_actions.ipynb",
      "provenance": [],
      "collapsed_sections": [
        "tcLurafG4NA5",
        "xVAw8APB4R6z"
      ],
      "toc_visible": true,
      "include_colab_link": true
    },
    "accelerator": "GPU"
  },
  "cells": [
    {
      "cell_type": "markdown",
      "metadata": {
        "id": "view-in-github",
        "colab_type": "text"
      },
      "source": [
        "<a href=\"https://colab.research.google.com/github/robertalanm/TT_tests/blob/master/new_actions.ipynb\" target=\"_parent\"><img src=\"https://colab.research.google.com/assets/colab-badge.svg\" alt=\"Open In Colab\"/></a>"
      ]
    },
    {
      "cell_type": "markdown",
      "metadata": {
        "id": "2Hu2FlOgB99K",
        "colab_type": "text"
      },
      "source": [
        "# Requisites"
      ]
    },
    {
      "cell_type": "code",
      "metadata": {
        "id": "VcfNzEYwL8Bj",
        "colab_type": "code",
        "colab": {
          "base_uri": "https://localhost:8080/",
          "height": 565
        },
        "outputId": "46d37fca-6a49-4562-a139-2a58502b7a2e"
      },
      "source": [
        "#!pip install git+https://github.com/robertalanm/TT_tests\n",
        "!pip install git+https://github.com/notadamking/tensortrade"
      ],
      "execution_count": 7,
      "outputs": [
        {
          "output_type": "stream",
          "text": [
            "Collecting git+https://github.com/notadamking/tensortrade\n",
            "  Cloning https://github.com/notadamking/tensortrade to /tmp/pip-req-build-x2eot8is\n",
            "  Running command git clone -q https://github.com/notadamking/tensortrade /tmp/pip-req-build-x2eot8is\n",
            "Requirement already satisfied: numpy==1.16.4 in /usr/local/lib/python3.6/dist-packages (from tensortrade==0.1.0rc1) (1.16.4)\n",
            "Requirement already satisfied: pandas==0.25.0 in /usr/local/lib/python3.6/dist-packages (from tensortrade==0.1.0rc1) (0.25.0)\n",
            "Requirement already satisfied: gym==0.14.0 in /usr/local/lib/python3.6/dist-packages (from tensortrade==0.1.0rc1) (0.14.0)\n",
            "Requirement already satisfied: pyyaml==5.1.2 in /usr/local/lib/python3.6/dist-packages (from tensortrade==0.1.0rc1) (5.1.2)\n",
            "Requirement already satisfied: sympy==1.4 in /usr/local/lib/python3.6/dist-packages (from tensortrade==0.1.0rc1) (1.4)\n",
            "Requirement already satisfied: python-dateutil>=2.6.1 in /usr/local/lib/python3.6/dist-packages (from pandas==0.25.0->tensortrade==0.1.0rc1) (2.6.1)\n",
            "Requirement already satisfied: pytz>=2017.2 in /usr/local/lib/python3.6/dist-packages (from pandas==0.25.0->tensortrade==0.1.0rc1) (2018.9)\n",
            "Requirement already satisfied: pyglet<=1.3.2,>=1.2.0 in /usr/local/lib/python3.6/dist-packages (from gym==0.14.0->tensortrade==0.1.0rc1) (1.3.2)\n",
            "Requirement already satisfied: six in /usr/local/lib/python3.6/dist-packages (from gym==0.14.0->tensortrade==0.1.0rc1) (1.12.0)\n",
            "Requirement already satisfied: cloudpickle~=1.2.0 in /usr/local/lib/python3.6/dist-packages (from gym==0.14.0->tensortrade==0.1.0rc1) (1.2.2)\n",
            "Requirement already satisfied: scipy in /usr/local/lib/python3.6/dist-packages (from gym==0.14.0->tensortrade==0.1.0rc1) (1.4.1)\n",
            "Requirement already satisfied: mpmath>=0.19 in /usr/local/lib/python3.6/dist-packages (from sympy==1.4->tensortrade==0.1.0rc1) (1.1.0)\n",
            "Requirement already satisfied: future in /usr/local/lib/python3.6/dist-packages (from pyglet<=1.3.2,>=1.2.0->gym==0.14.0->tensortrade==0.1.0rc1) (0.16.0)\n",
            "Building wheels for collected packages: tensortrade\n",
            "  Building wheel for tensortrade (setup.py) ... \u001b[?25l\u001b[?25hdone\n",
            "  Created wheel for tensortrade: filename=tensortrade-0.1.0rc1-cp36-none-any.whl size=92945 sha256=89289a0ff3843ca952cb772c47ddcb2a674cf500d4480628f784410b26766658\n",
            "  Stored in directory: /tmp/pip-ephem-wheel-cache-jkzofvfe/wheels/7c/ed/66/c708e8f58e006fa34ffc022ac50de732e7a2aabb91654774f5\n",
            "Successfully built tensortrade\n",
            "Installing collected packages: tensortrade\n",
            "  Found existing installation: tensortrade 0.0.1a18\n",
            "    Uninstalling tensortrade-0.0.1a18:\n",
            "      Successfully uninstalled tensortrade-0.0.1a18\n",
            "Successfully installed tensortrade-0.1.0rc1\n"
          ],
          "name": "stdout"
        },
        {
          "output_type": "display_data",
          "data": {
            "application/vnd.colab-display-data+json": {
              "pip_warning": {
                "packages": [
                  "tensortrade"
                ]
              }
            }
          },
          "metadata": {
            "tags": []
          }
        }
      ]
    },
    {
      "cell_type": "code",
      "metadata": {
        "id": "TiSpBvv-NCgi",
        "colab_type": "code",
        "colab": {
          "base_uri": "https://localhost:8080/",
          "height": 888
        },
        "outputId": "0333e36c-f44d-493e-af34-714fee3bf797"
      },
      "source": [
        "!pip install ccxt stochastic tensorforce==0.5.2 ta"
      ],
      "execution_count": 19,
      "outputs": [
        {
          "output_type": "stream",
          "text": [
            "Requirement already satisfied: ccxt in /usr/local/lib/python3.6/dist-packages (1.21.59)\n",
            "Requirement already satisfied: stochastic in /usr/local/lib/python3.6/dist-packages (0.4.0)\n",
            "Collecting tensorforce==0.5.2\n",
            "\u001b[?25l  Downloading https://files.pythonhosted.org/packages/d7/7b/cebafd140baec0f452543d01494beaae152d90d988545188798a031bde41/Tensorforce-0.5.2-py3-none-any.whl (308kB)\n",
            "\u001b[K     |████████████████████████████████| 317kB 4.7MB/s \n",
            "\u001b[?25hRequirement already satisfied: ta in /usr/local/lib/python3.6/dist-packages (0.5.11)\n",
            "Requirement already satisfied: yarl==1.1.0; python_version >= \"3.5.2\" in /usr/local/lib/python3.6/dist-packages (from ccxt) (1.1.0)\n",
            "Requirement already satisfied: cryptography>=2.6.1 in /usr/local/lib/python3.6/dist-packages (from ccxt) (2.8)\n",
            "Requirement already satisfied: setuptools>=38.5.1 in /usr/local/lib/python3.6/dist-packages (from ccxt) (42.0.2)\n",
            "Requirement already satisfied: aiodns==1.1.1; python_version >= \"3.5.2\" in /usr/local/lib/python3.6/dist-packages (from ccxt) (1.1.1)\n",
            "Requirement already satisfied: requests>=2.18.4 in /usr/local/lib/python3.6/dist-packages (from ccxt) (2.21.0)\n",
            "Requirement already satisfied: aiohttp==3.6.2; python_version >= \"3.5.2\" in /usr/local/lib/python3.6/dist-packages (from ccxt) (3.6.2)\n",
            "Requirement already satisfied: certifi>=2018.1.18 in /usr/local/lib/python3.6/dist-packages (from ccxt) (2019.11.28)\n",
            "Requirement already satisfied: numpy in /usr/local/lib/python3.6/dist-packages (from stochastic) (1.16.4)\n",
            "Requirement already satisfied: scipy in /usr/local/lib/python3.6/dist-packages (from stochastic) (1.4.1)\n",
            "Requirement already satisfied: pytest in /usr/local/lib/python3.6/dist-packages (from tensorforce==0.5.2) (3.6.4)\n",
            "Requirement already satisfied: tqdm in /usr/local/lib/python3.6/dist-packages (from tensorforce==0.5.2) (4.28.1)\n",
            "Requirement already satisfied: matplotlib in /usr/local/lib/python3.6/dist-packages (from tensorforce==0.5.2) (3.1.2)\n",
            "Requirement already satisfied: pandas in /usr/local/lib/python3.6/dist-packages (from ta) (0.25.0)\n",
            "Requirement already satisfied: idna>=2.0 in /usr/local/lib/python3.6/dist-packages (from yarl==1.1.0; python_version >= \"3.5.2\"->ccxt) (2.8)\n",
            "Requirement already satisfied: multidict>=4.0 in /usr/local/lib/python3.6/dist-packages (from yarl==1.1.0; python_version >= \"3.5.2\"->ccxt) (4.7.4)\n",
            "Requirement already satisfied: six>=1.4.1 in /usr/local/lib/python3.6/dist-packages (from cryptography>=2.6.1->ccxt) (1.12.0)\n",
            "Requirement already satisfied: cffi!=1.11.3,>=1.8 in /usr/local/lib/python3.6/dist-packages (from cryptography>=2.6.1->ccxt) (1.13.2)\n",
            "Requirement already satisfied: pycares>=1.0.0 in /usr/local/lib/python3.6/dist-packages (from aiodns==1.1.1; python_version >= \"3.5.2\"->ccxt) (3.1.1)\n",
            "Requirement already satisfied: urllib3<1.25,>=1.21.1 in /usr/local/lib/python3.6/dist-packages (from requests>=2.18.4->ccxt) (1.24.3)\n",
            "Requirement already satisfied: chardet<3.1.0,>=3.0.2 in /usr/local/lib/python3.6/dist-packages (from requests>=2.18.4->ccxt) (3.0.4)\n",
            "Requirement already satisfied: typing-extensions>=3.6.5; python_version < \"3.7\" in /usr/local/lib/python3.6/dist-packages (from aiohttp==3.6.2; python_version >= \"3.5.2\"->ccxt) (3.6.6)\n",
            "Requirement already satisfied: idna-ssl>=1.0; python_version < \"3.7\" in /usr/local/lib/python3.6/dist-packages (from aiohttp==3.6.2; python_version >= \"3.5.2\"->ccxt) (1.1.0)\n",
            "Requirement already satisfied: async-timeout<4.0,>=3.0 in /usr/local/lib/python3.6/dist-packages (from aiohttp==3.6.2; python_version >= \"3.5.2\"->ccxt) (3.0.1)\n",
            "Requirement already satisfied: attrs>=17.3.0 in /usr/local/lib/python3.6/dist-packages (from aiohttp==3.6.2; python_version >= \"3.5.2\"->ccxt) (19.3.0)\n",
            "Requirement already satisfied: more-itertools>=4.0.0 in /usr/local/lib/python3.6/dist-packages (from pytest->tensorforce==0.5.2) (8.0.2)\n",
            "Requirement already satisfied: pluggy<0.8,>=0.5 in /usr/local/lib/python3.6/dist-packages (from pytest->tensorforce==0.5.2) (0.7.1)\n",
            "Requirement already satisfied: py>=1.5.0 in /usr/local/lib/python3.6/dist-packages (from pytest->tensorforce==0.5.2) (1.8.1)\n",
            "Requirement already satisfied: atomicwrites>=1.0 in /usr/local/lib/python3.6/dist-packages (from pytest->tensorforce==0.5.2) (1.3.0)\n",
            "Requirement already satisfied: kiwisolver>=1.0.1 in /usr/local/lib/python3.6/dist-packages (from matplotlib->tensorforce==0.5.2) (1.1.0)\n",
            "Requirement already satisfied: cycler>=0.10 in /usr/local/lib/python3.6/dist-packages (from matplotlib->tensorforce==0.5.2) (0.10.0)\n",
            "Requirement already satisfied: pyparsing!=2.0.4,!=2.1.2,!=2.1.6,>=2.0.1 in /usr/local/lib/python3.6/dist-packages (from matplotlib->tensorforce==0.5.2) (2.4.6)\n",
            "Requirement already satisfied: python-dateutil>=2.1 in /usr/local/lib/python3.6/dist-packages (from matplotlib->tensorforce==0.5.2) (2.6.1)\n",
            "Requirement already satisfied: pytz>=2017.2 in /usr/local/lib/python3.6/dist-packages (from pandas->ta) (2018.9)\n",
            "Requirement already satisfied: pycparser in /usr/local/lib/python3.6/dist-packages (from cffi!=1.11.3,>=1.8->cryptography>=2.6.1->ccxt) (2.19)\n",
            "Installing collected packages: tensorforce\n",
            "  Found existing installation: tensorforce 0.4.4\n",
            "    Uninstalling tensorforce-0.4.4:\n",
            "      Successfully uninstalled tensorforce-0.4.4\n",
            "Successfully installed tensorforce-0.5.2\n"
          ],
          "name": "stdout"
        },
        {
          "output_type": "display_data",
          "data": {
            "application/vnd.colab-display-data+json": {
              "pip_warning": {
                "packages": [
                  "tensorforce"
                ]
              }
            }
          },
          "metadata": {
            "tags": []
          }
        }
      ]
    },
    {
      "cell_type": "markdown",
      "metadata": {
        "id": "kdAJJs--B1Qq",
        "colab_type": "text"
      },
      "source": [
        "# Data Fetcher"
      ]
    },
    {
      "cell_type": "markdown",
      "metadata": {
        "id": "tcLurafG4NA5",
        "colab_type": "text"
      },
      "source": [
        "> ## pull data"
      ]
    },
    {
      "cell_type": "code",
      "metadata": {
        "id": "zRjnT1KoB42M",
        "colab_type": "code",
        "outputId": "bab9419a-95d7-416a-cf8e-d4737ef1b08a",
        "colab": {
          "base_uri": "https://localhost:8080/",
          "height": 198
        }
      },
      "source": [
        "import requests\n",
        "import time\n",
        "import csv\n",
        "import json\n",
        "import sys, os\n",
        "import datetime\n",
        "\n",
        "#fetching data from bitstamp and write to a csv file\n",
        "F_Z = \"%Y-%m-%dT%H:%M:%S.%fZ\"\n",
        "'''\n",
        "currency_pairs = ['BTC-USD', 'BTC-EUR', 'BTC-GBP',\n",
        "                  'ETH-USD', 'ETH-EUR', 'ETH-GBP',\n",
        "                  'BCH-USD', 'BCH-EUR', 'BCH-GBP',\n",
        "                  'LTC-USD', 'LTC-EUR', 'LTC-GBP',\n",
        "                    'ETC-USD', 'ETC-EUR', 'ETC-GBP',\n",
        "\n",
        "                  ]\n",
        "'''\n",
        "\n",
        "currency_pairs = ['BTC-USD']\n",
        "\n",
        "OB_url = 'https://api.pro.coinbase.com/products/%s/book?level=2'\n",
        "trans_url = 'https://api.pro.coinbase.com/products/%s/trades'\n",
        "\n",
        "trimmed_ob_limit = 30\n",
        "time_sleep = 25\n",
        "last_transaction = {}\n",
        "for i in currency_pairs:\n",
        "    last_transaction[i] = {'trade_id': '', 'time': str(datetime.datetime.utcnow().strftime(F_Z))}\n",
        "\n",
        "def try_parsing_date(text):\n",
        "    for fmt in ('%Y-%m-%dT%H:%M:%S.%fZ', '%Y-%m-%dT%H:%M:%SZ'):\n",
        "        try:\n",
        "            return datetime.datetime.strptime(text, fmt)\n",
        "        except ValueError:\n",
        "            pass\n",
        "    raise ValueError('no valid date format found')\n",
        "\n",
        "\n",
        "while True:\n",
        "    for curr_pair in currency_pairs:\n",
        "        try:\n",
        "            resp = requests.get(url=OB_url % curr_pair)\n",
        "            ob_snapshot = resp.json()\n",
        "            transactions = requests.get(url=trans_url % curr_pair).json()\n",
        "            transaction_recent = transactions[0] if len(transactions) > 0 else {'trade_id': ''}\n",
        "\n",
        "            last_transaction_time = try_parsing_date(last_transaction[curr_pair]['time']).timestamp()\n",
        "\n",
        "            filtered_list = [\n",
        "                {'side': i['side'], 'trade_id': i['trade_id'], 'price': i['price'],\n",
        "                 'size': i['size'], 'time': try_parsing_date(i['time']).timestamp()\n",
        "                 }\n",
        "                for i in transactions if \\\n",
        "                                try_parsing_date(i['time']).timestamp() >\n",
        "                             last_transaction_time]\n",
        "\n",
        "            recorded_transaction = json.dumps(filtered_list)  \\\n",
        "                if last_transaction[curr_pair]['trade_id'] != transaction_recent['trade_id'] else ''\n",
        "\n",
        "            filename = 'cb_%s.csv' % curr_pair\n",
        "\n",
        "            with open(filename, 'a') as csvfile:\n",
        "                fieldnames = ['timestamp', 'transactions', 'ob']\n",
        "                timestamp = int(time.time())\n",
        "                trimmed_ob = json.dumps({'bid': [[i[0], i[1]] for i in ob_snapshot['bids'][:trimmed_ob_limit]],\n",
        "                              'ask': [[i[0], i[1]] for i in ob_snapshot['asks'][:trimmed_ob_limit]]})\n",
        "                writer = csv.DictWriter(csvfile, fieldnames=fieldnames)\n",
        "                writer.writerow({'timestamp': timestamp, 'transactions': recorded_transaction, 'ob': trimmed_ob})\n",
        "                last_transaction[curr_pair] = transaction_recent\n",
        "        except Exception as e:\n",
        "            exc_type, exc_obj, exc_tb = sys.exc_info()\n",
        "            fname = os.path.split(exc_tb.tb_frame.f_code.co_filename)[1]\n",
        "            print(exc_type, fname, exc_tb.tb_lineno, e)\n",
        "        time.sleep(0.5)\n",
        "    time.sleep(time_sleep)"
      ],
      "execution_count": 0,
      "outputs": [
        {
          "output_type": "error",
          "ename": "KeyboardInterrupt",
          "evalue": "ignored",
          "traceback": [
            "\u001b[0;31m---------------------------------------------------------------------------\u001b[0m",
            "\u001b[0;31mKeyboardInterrupt\u001b[0m                         Traceback (most recent call last)",
            "\u001b[0;32m<ipython-input-4-79e879a260eb>\u001b[0m in \u001b[0;36m<module>\u001b[0;34m()\u001b[0m\n\u001b[1;32m     73\u001b[0m             \u001b[0mprint\u001b[0m\u001b[0;34m(\u001b[0m\u001b[0mexc_type\u001b[0m\u001b[0;34m,\u001b[0m \u001b[0mfname\u001b[0m\u001b[0;34m,\u001b[0m \u001b[0mexc_tb\u001b[0m\u001b[0;34m.\u001b[0m\u001b[0mtb_lineno\u001b[0m\u001b[0;34m,\u001b[0m \u001b[0me\u001b[0m\u001b[0;34m)\u001b[0m\u001b[0;34m\u001b[0m\u001b[0;34m\u001b[0m\u001b[0m\n\u001b[1;32m     74\u001b[0m         \u001b[0mtime\u001b[0m\u001b[0;34m.\u001b[0m\u001b[0msleep\u001b[0m\u001b[0;34m(\u001b[0m\u001b[0;36m0.5\u001b[0m\u001b[0;34m)\u001b[0m\u001b[0;34m\u001b[0m\u001b[0;34m\u001b[0m\u001b[0m\n\u001b[0;32m---> 75\u001b[0;31m     \u001b[0mtime\u001b[0m\u001b[0;34m.\u001b[0m\u001b[0msleep\u001b[0m\u001b[0;34m(\u001b[0m\u001b[0mtime_sleep\u001b[0m\u001b[0;34m)\u001b[0m\u001b[0;34m\u001b[0m\u001b[0;34m\u001b[0m\u001b[0m\n\u001b[0m",
            "\u001b[0;31mKeyboardInterrupt\u001b[0m: "
          ]
        }
      ]
    },
    {
      "cell_type": "markdown",
      "metadata": {
        "id": "xVAw8APB4R6z",
        "colab_type": "text"
      },
      "source": [
        "> ## Feature Transformation"
      ]
    },
    {
      "cell_type": "code",
      "metadata": {
        "id": "bzuBaHMDHA3i",
        "colab_type": "code",
        "outputId": "8b67478e-d6da-4dff-9292-e4ac14e058e7",
        "colab": {
          "base_uri": "https://localhost:8080/",
          "height": 34
        }
      },
      "source": [
        "\n",
        "import pandas as pd\n",
        "import numpy as np\n",
        "import json\n",
        "import ast\n",
        "import matplotlib.pyplot as plt\n",
        "import matplotlib as mpl\n",
        "mpl.style.use('seaborn')\n",
        "\n",
        "# df = pd.read_csv('bitstamp_btcusd.csv', header=None, names=['timestamp', 'trades', 'book'])\n",
        "df = pd.read_csv('cb_BTC-USD.csv', header=None, names=['timestamp', 'trades', 'book'])\n",
        "\n",
        "df['trades'] = df['trades'].apply(lambda d: json.loads(d) if isinstance(d, str) else [])\n",
        "df['book'] = df['book'].apply(lambda d: json.loads(d))\n",
        "df.iloc[1]\n",
        "df.shape\n",
        "# df.iloc[1382]['book']"
      ],
      "execution_count": 0,
      "outputs": [
        {
          "output_type": "execute_result",
          "data": {
            "text/plain": [
              "(3535, 3)"
            ]
          },
          "metadata": {
            "tags": []
          },
          "execution_count": 6
        }
      ]
    },
    {
      "cell_type": "code",
      "metadata": {
        "id": "jNP8pVJVCYyF",
        "colab_type": "code",
        "colab": {}
      },
      "source": [
        "import math\n",
        "def trades_to_weighted_px(trades_arr):\n",
        "    notional = 0\n",
        "    qty = 0\n",
        "    for trade in trades_arr:\n",
        "        notional += float(trade['price']) * float(trade['size'])\n",
        "        qty += float(trade['size'])\n",
        "    \n",
        "    return notional / (qty + 1e-16)\n",
        "\n",
        "def trades_to_latest_px(trades_arr):\n",
        "    max_time = 0\n",
        "    trade_px = 0\n",
        "    for trade in trades_arr:\n",
        "        timestamp = int(trade['time'])\n",
        "        if timestamp > max_time:\n",
        "            trade_px = float(trade['price'])\n",
        "    return trade_px\n",
        "\n",
        "def trades_to_vol(trades):\n",
        "    qty = sum([float(trade['size']) for trade in trades])\n",
        "    return qty \n",
        "\n",
        "def trades_to_high(row):\n",
        "    if len(row['trades']) > 0:\n",
        "        return max(float(trade['price']) for trade in row['trades'])\n",
        "    else:\n",
        "        return row['latest_trade_px']\n",
        "\n",
        "# def trades_to_low(trades):\n",
        "#     return min(float(trade['price']) for trade in trades)\n",
        "\n",
        "def trades_to_low(row):\n",
        "    if len(row['trades']) > 0:\n",
        "        return min(float(trade['price']) for trade in row['trades'])\n",
        "    else:\n",
        "        return row['latest_trade_px']\n",
        "\n",
        "def interpolate_tradepx(df):\n",
        "    for i in range(len(df)):\n",
        "        trade_px = df.iloc[i]['trade_px']\n",
        "        if trade_px == 0:\n",
        "            if i == 0:\n",
        "                new_trade_px = 0\n",
        "                for j in range(len(df)):\n",
        "                    if df.iloc[j]['trade_px'] != 0:\n",
        "                        new_trade_px = df.iloc[j]['trade_px']\n",
        "                        break\n",
        "                df.iloc[i]['trade_px'] = new_trade_px\n",
        "            else:\n",
        "                df.iloc[i]['trade_px'] = df.iloc[i - 1]['trade_px'] \n",
        "\n",
        "\n",
        "def get_log_close(df):\n",
        "  for i in range(len(df)):\n",
        "    if i == 0:\n",
        "      return 0\n",
        "    if i > 0:\n",
        "      df['log_close'][i] = (math.log(df['bid_px'][i]) - math.log(df['ask_px'][i].shift(1)))\n",
        "\n",
        "\n",
        "\n",
        "def get_base_features(old_df):\n",
        "    df = old_df.copy()\n",
        "    \n",
        "    #generate base data\n",
        "    df['trade_px'] = df['trades'].apply(trades_to_weighted_px)\n",
        "    df['volume'] = df['trades'].apply(trades_to_vol)\n",
        "    df['latest_trade_px'] = df['trades'].apply(trades_to_latest_px)\n",
        "    df['latest_trade_px'] = df['latest_trade_px'].replace(to_replace=0, method='ffill')\n",
        "    df['bid_px'] = df['book'].apply(lambda x: float(x['bid'][0][0]))\n",
        "    df['ask_px'] = df['book'].apply(lambda x: float(x['ask'][0][0]))\n",
        "    df['bid_vol'] = df['book'].apply(lambda x: float(x['bid'][0][1]))\n",
        "    df['ask_vol'] = df['book'].apply(lambda x: float(x['ask'][0][1]))\n",
        "    df['mid_px'] = (df['bid_px'] + df['ask_px'])/2\n",
        "\n",
        "    #TA modules\n",
        "    df['High'] = df.apply(trades_to_high, axis=1)\n",
        "    df['Low'] = df.apply(trades_to_low, axis=1)\n",
        "    df['Timestamp'] = df['timestamp']\n",
        "    df['Close'] = df['latest_trade_px']\n",
        "    df['Open'] = df['latest_trade_px'].shift(1)\n",
        "    df['Volume'] = df['volume']\n",
        "    \n",
        "    # y\n",
        "    df['change_pct_latest_px'] = df['latest_trade_px'].pct_change()\n",
        "    df['px_change'] = df['latest_trade_px'].diff()\n",
        "    \n",
        "    # generate features\n",
        "    df['spread'] = df['ask_px'] - df['bid_px']\n",
        "    df['l1imbalance'] = (df['bid_vol'] - df['ask_vol']) / ((df['bid_vol'] + df['ask_vol']) + 1e-9)\n",
        "    df['bid_delta'] = df['bid_px'] - df['bid_px'].shift(1)\n",
        "    df['ask_delta'] = df['ask_px'] - df['ask_px'].shift(1)\n",
        "    df['bid_vol_delta'] = df['bid_vol'] - df['bid_vol'].shift(1)\n",
        "    df['ask_vol_delta'] = df['ask_vol'] - df['ask_vol'].shift(1)\n",
        "    df['bid_vol_acceleration'] = ((df['bid_vol_delta'] - df['bid_vol_delta'].shift(1)) / \n",
        "            (df['bid_vol_delta'].shift(1) + 1e-9))\n",
        "    df['ask_vol_acceleration'] = ((df['ask_vol_delta'] - df['ask_vol_delta'].shift(1)) / \n",
        "            (df['ask_vol_delta'].shift(1) + 1e-9))\n",
        "    \n",
        "    df['time_delta'] = df['timestamp'] - df['timestamp'].shift(1)\n",
        "    df['time_delta'] = df['time_delta'].apply(lambda seconds: np.nan if seconds > 40 else seconds)\n",
        "    \n",
        "    #l2 features\n",
        "    \n",
        "    \n",
        "    df = df.replace([np.inf, -np.inf], np.nan)\n",
        "    \n",
        "    return df"
      ],
      "execution_count": 0,
      "outputs": []
    },
    {
      "cell_type": "code",
      "metadata": {
        "id": "dsEr0fUJG8dy",
        "colab_type": "code",
        "colab": {}
      },
      "source": [
        "new_df = get_base_features(df).dropna()\n",
        "new_df.drop(df.iloc[:, 1:3], inplace = True, axis = 1)\n",
        "new_df.shape\n",
        "new_df\n",
        "# new_df.rolling(window=5).mean()\n",
        "new_df.to_csv('NEW_DF.csv')"
      ],
      "execution_count": 0,
      "outputs": []
    },
    {
      "cell_type": "markdown",
      "metadata": {
        "id": "xt5HcG8BB6Lc",
        "colab_type": "text"
      },
      "source": [
        "# Running Code"
      ]
    },
    {
      "cell_type": "markdown",
      "metadata": {
        "id": "wefE2wFLHmjo",
        "colab_type": "text"
      },
      "source": [
        "> ## Models"
      ]
    },
    {
      "cell_type": "code",
      "metadata": {
        "id": "vVEqbOWR86M-",
        "colab_type": "code",
        "colab": {}
      },
      "source": [
        ""
      ],
      "execution_count": 0,
      "outputs": []
    },
    {
      "cell_type": "markdown",
      "metadata": {
        "id": "7cxxX5weHv_b",
        "colab_type": "text"
      },
      "source": [
        "> ## Impl"
      ]
    },
    {
      "cell_type": "markdown",
      "metadata": {
        "id": "gWDW6JoB20ld",
        "colab_type": "text"
      },
      "source": [
        "> > ### Old"
      ]
    },
    {
      "cell_type": "code",
      "metadata": {
        "scrolled": true,
        "id": "3F9F9S4PL5av",
        "colab_type": "code",
        "outputId": "d4f06149-43c4-47fb-8fd7-ddfadd664923",
        "colab": {
          "base_uri": "https://localhost:8080/",
          "height": 905
        }
      },
      "source": [
        "import tensorflow as tf\n",
        "import pandas as pd\n",
        "import ccxt\n",
        "\n",
        "from stable_baselines.common.policies import MlpLnLstmPolicy\n",
        "from stable_baselines import PPO2\n",
        "\n",
        "from tensorforce.agents import Agent\n",
        "\n",
        "from tensortrade.strategies import StableBaselinesTradingStrategy, TensorforceTradingStrategy\n",
        "from tensortrade.environments import TradingEnvironment\n",
        "from tensortrade.rewards import RiskAdjustedReturns\n",
        "from tensortrade.actions import ManagedRiskOrders\n",
        "from tensortrade.instruments import Quantity, TradingPair, BTC, USD\n",
        "from tensortrade.orders.criteria import Stop, StopDirection\n",
        "from tensortrade.wallets import Wallet, Portfolio\n",
        "from tensortrade.exchanges.simulated import SimulatedExchange\n",
        "from tensortrade.exchanges.live import CCXTExchange\n",
        "from tensortrade.features.stationarity import LogDifference\n",
        "from tensortrade.features.scalers import MinMaxNormalizer\n",
        "from tensortrade.features import FeaturePipeline\n",
        "\n",
        "WINDOW_SIZE = 1\n",
        "#PRICE_COLUMN = 'change_pct_latest_px'\n",
        "PRICE_COLUMN = 'close'\n",
        "\n",
        "normalize = MinMaxNormalizer(inplace=True)\n",
        "difference = LogDifference(inplace=True)\n",
        "feature_pipeline = FeaturePipeline(steps=[normalize])\n",
        "\n",
        "action_scheme = ManagedRiskOrders(pairs=[USD/BTC])\n",
        "reward_scheme = RiskAdjustedReturns(return_algorithm=\"sortino\")\n",
        "\n",
        "#csv_file = tf.keras.utils.get_file(\n",
        "#    'Coinbase_BTCUSD_1h.csv', 'http://www.cryptodatadownload.com/cdd/Coinbase_BTCUSD_1h.csv')\n",
        "ohlcv_data = pd.read_csv('NEW_DF.csv', skiprows=0, index_col=\"timestamp\")\n",
        "#ohlcv_data = pd.read_csv(csv_file, skiprows=1, index_col=\"Date\")\n",
        "ohlcv_data.columns = map(str.lower, ohlcv_data.columns)\n",
        "ohlcv_data = ohlcv_data.rename(columns={'volume btc': 'volume'})\n",
        "\n",
        "\n",
        "#coinbase = ccxt.coinbasepro()\n",
        "#exchange = CCXTExchange(exchange=coinbase, base_instrument='USD')\n",
        "exchange = SimulatedExchange(data_frame=ohlcv_data, price_column=PRICE_COLUMN, randomize_time_slices=False)\n",
        "\n",
        "wallets = [(exchange, USD, 10000), (exchange, BTC, 0)]\n",
        "\n",
        "portfolio = Portfolio(base_instrument=USD, wallets=wallets)\n",
        "\n",
        "environment = TradingEnvironment(exchange=exchange,\n",
        "                                 portfolio=portfolio,\n",
        "                                 action_scheme=action_scheme,\n",
        "                                 reward_scheme=reward_scheme,\n",
        "                                 feature_pipeline=feature_pipeline,\n",
        "                                 window_size=WINDOW_SIZE,\n",
        "                                 observe_wallets=[USD, BTC])\n",
        "\n",
        "print('Observation Data:')\n",
        "print(environment.observation_columns)\n",
        "\n",
        "'''\n",
        "model = PPO2\n",
        "policy = MlpLnLstmPolicy\n",
        "params = { \"learning_rate\": 1e-5, 'nminibatches': 1,  }\n",
        "\n",
        "strategy = StableBaselinesTradingStrategy(environment=environment,\n",
        "                                          model=model,\n",
        "                                          policy=policy,\n",
        "                                          model_kwargs=params)\n",
        "\n",
        "strategy.run(steps=1000)\n",
        "'''\n",
        "\n",
        "network_spec = [\n",
        "    dict(type='dense', size=128, activation=\"tanh\"),\n",
        "    dict(type='dense', size=64, activation=\"tanh\"),\n",
        "    dict(type='dense', size=32, activation=\"tanh\")\n",
        "]\n",
        "\n",
        "agent_spec = {\n",
        "    \"type\": \"a2c\",\n",
        "    \"learning_rate\": 0.0003,\n",
        "    \"discount\": 1.0,\n",
        "    \"estimate_terminal\": False,\n",
        "    \"max_episode_timesteps\": 20000,\n",
        "    \"network\": network_spec,\n",
        "    \"batch_size\": 100,\n",
        "    \"update_frequency\":100\n",
        "}\n",
        "\n",
        "agent = Agent.create(\n",
        "    agent='tensorforce',\n",
        "    states=dict(type='float', shape=(10,)),\n",
        "    actions=dict(type='int', num_values=5),\n",
        "    max_episode_timesteps=100,\n",
        "    memory=10000,\n",
        "    update=dict(unit='timesteps', batch_size=64),\n",
        "    optimizer=dict(type='adam', learning_rate=3e-4),\n",
        "    policy=dict(network='auto'),\n",
        "    objective='policy_gradient',\n",
        "    reward_estimation=dict(horizon=20)\n",
        ")\n",
        "\n",
        "strategy = TensorforceTradingStrategy(environment=environment, \n",
        "                                      agent=agent, max_episode_timesteps=20000)\n",
        "\n",
        "strategy.run(steps=1000)\n"
      ],
      "execution_count": 7,
      "outputs": [
        {
          "output_type": "stream",
          "text": [
            "/usr/local/lib/python3.6/dist-packages/pandas/core/indexing.py:362: SettingWithCopyWarning: \n",
            "A value is trying to be set on a copy of a slice from a DataFrame.\n",
            "Try using .loc[row_indexer,col_indexer] = value instead\n",
            "\n",
            "See the caveats in the documentation: http://pandas.pydata.org/pandas-docs/stable/user_guide/indexing.html#returning-a-view-versus-a-copy\n",
            "  self.obj[key] = _infer_fill_value(value)\n",
            "/usr/local/lib/python3.6/dist-packages/pandas/core/indexing.py:480: SettingWithCopyWarning: \n",
            "A value is trying to be set on a copy of a slice from a DataFrame.\n",
            "Try using .loc[row_indexer,col_indexer] = value instead\n",
            "\n",
            "See the caveats in the documentation: http://pandas.pydata.org/pandas-docs/stable/user_guide/indexing.html#returning-a-view-versus-a-copy\n",
            "  self.obj[item] = s\n"
          ],
          "name": "stderr"
        },
        {
          "output_type": "stream",
          "text": [
            "Observation Data:\n",
            "['unnamed: 0' 'trade_px' 'volume' 'latest_trade_px' 'bid_px' 'ask_px'\n",
            " 'bid_vol' 'ask_vol' 'mid_px' 'high' 'low' 'timestamp' 'close' 'open'\n",
            " 'volume' 'change_pct_latest_px' 'px_change' 'spread' 'l1imbalance'\n",
            " 'bid_delta' 'ask_delta' 'bid_vol_delta' 'ask_vol_delta'\n",
            " 'bid_vol_acceleration' 'ask_vol_acceleration' 'time_delta' 'USD' 'BTC'\n",
            " 'USD_pending' 'BTC_pending']\n"
          ],
          "name": "stdout"
        },
        {
          "output_type": "stream",
          "text": [
            "\n",
            "Timesteps:   0%|          | 0/1000 [00:00<?, ?it/s, mean_reward=n/a]\u001b[A/usr/local/lib/python3.6/dist-packages/pandas/core/indexing.py:362: SettingWithCopyWarning: \n",
            "A value is trying to be set on a copy of a slice from a DataFrame.\n",
            "Try using .loc[row_indexer,col_indexer] = value instead\n",
            "\n",
            "See the caveats in the documentation: http://pandas.pydata.org/pandas-docs/stable/user_guide/indexing.html#returning-a-view-versus-a-copy\n",
            "  self.obj[key] = _infer_fill_value(value)\n",
            "/usr/local/lib/python3.6/dist-packages/pandas/core/indexing.py:480: SettingWithCopyWarning: \n",
            "A value is trying to be set on a copy of a slice from a DataFrame.\n",
            "Try using .loc[row_indexer,col_indexer] = value instead\n",
            "\n",
            "See the caveats in the documentation: http://pandas.pydata.org/pandas-docs/stable/user_guide/indexing.html#returning-a-view-versus-a-copy\n",
            "  self.obj[item] = s\n"
          ],
          "name": "stderr"
        },
        {
          "output_type": "error",
          "ename": "ValueError",
          "evalue": "ignored",
          "traceback": [
            "\u001b[0;31m---------------------------------------------------------------------------\u001b[0m",
            "\u001b[0;31mValueError\u001b[0m                                Traceback (most recent call last)",
            "\u001b[0;32m<ipython-input-7-afae54be53a4>\u001b[0m in \u001b[0;36m<module>\u001b[0;34m()\u001b[0m\n\u001b[1;32m    105\u001b[0m                                       agent=agent, max_episode_timesteps=20000)\n\u001b[1;32m    106\u001b[0m \u001b[0;34m\u001b[0m\u001b[0m\n\u001b[0;32m--> 107\u001b[0;31m \u001b[0mstrategy\u001b[0m\u001b[0;34m.\u001b[0m\u001b[0mrun\u001b[0m\u001b[0;34m(\u001b[0m\u001b[0msteps\u001b[0m\u001b[0;34m=\u001b[0m\u001b[0;36m1000\u001b[0m\u001b[0;34m)\u001b[0m\u001b[0;34m\u001b[0m\u001b[0;34m\u001b[0m\u001b[0m\n\u001b[0m",
            "\u001b[0;32m/usr/local/lib/python3.6/dist-packages/tensortrade/strategies/tensorforce_trading_strategy.py\u001b[0m in \u001b[0;36mrun\u001b[0;34m(self, steps, episodes, render_mode, evaluation, episode_callback)\u001b[0m\n\u001b[1;32m    142\u001b[0m                          \u001b[0mnum_timesteps\u001b[0m\u001b[0;34m=\u001b[0m\u001b[0msteps\u001b[0m\u001b[0;34m,\u001b[0m\u001b[0;34m\u001b[0m\u001b[0;34m\u001b[0m\u001b[0m\n\u001b[1;32m    143\u001b[0m                          \u001b[0mnum_episodes\u001b[0m\u001b[0;34m=\u001b[0m\u001b[0mepisodes\u001b[0m\u001b[0;34m,\u001b[0m\u001b[0;34m\u001b[0m\u001b[0;34m\u001b[0m\u001b[0m\n\u001b[0;32m--> 144\u001b[0;31m                          callback=episode_callback)\n\u001b[0m\u001b[1;32m    145\u001b[0m \u001b[0;34m\u001b[0m\u001b[0m\n\u001b[1;32m    146\u001b[0m         \u001b[0mn_episodes\u001b[0m \u001b[0;34m=\u001b[0m \u001b[0mself\u001b[0m\u001b[0;34m.\u001b[0m\u001b[0m_runner\u001b[0m\u001b[0;34m.\u001b[0m\u001b[0mepisodes\u001b[0m\u001b[0;34m\u001b[0m\u001b[0;34m\u001b[0m\u001b[0m\n",
            "\u001b[0;32m/usr/local/lib/python3.6/dist-packages/tensorforce/execution/runner.py\u001b[0m in \u001b[0;36mrun\u001b[0;34m(self, num_episodes, num_timesteps, num_updates, max_episode_timesteps, num_repeat_actions, callback, callback_episode_frequency, callback_timestep_frequency, use_tqdm, mean_horizon, evaluation, evaluation_callback, evaluation_frequency, max_evaluation_timesteps, num_evaluation_iterations)\u001b[0m\n\u001b[1;32m    231\u001b[0m             if not self.run_episode(\n\u001b[1;32m    232\u001b[0m                 \u001b[0menvironment\u001b[0m\u001b[0;34m=\u001b[0m\u001b[0mself\u001b[0m\u001b[0;34m.\u001b[0m\u001b[0menvironment\u001b[0m\u001b[0;34m,\u001b[0m \u001b[0mmax_timesteps\u001b[0m\u001b[0;34m=\u001b[0m\u001b[0mself\u001b[0m\u001b[0;34m.\u001b[0m\u001b[0mmax_episode_timesteps\u001b[0m\u001b[0;34m,\u001b[0m\u001b[0;34m\u001b[0m\u001b[0;34m\u001b[0m\u001b[0m\n\u001b[0;32m--> 233\u001b[0;31m                 \u001b[0mevaluation\u001b[0m\u001b[0;34m=\u001b[0m\u001b[0mself\u001b[0m\u001b[0;34m.\u001b[0m\u001b[0mevaluation\u001b[0m\u001b[0;34m\u001b[0m\u001b[0;34m\u001b[0m\u001b[0m\n\u001b[0m\u001b[1;32m    234\u001b[0m             ):\n\u001b[1;32m    235\u001b[0m                 \u001b[0;32mreturn\u001b[0m\u001b[0;34m\u001b[0m\u001b[0;34m\u001b[0m\u001b[0m\n",
            "\u001b[0;32m/usr/local/lib/python3.6/dist-packages/tensorforce/execution/runner.py\u001b[0m in \u001b[0;36mrun_episode\u001b[0;34m(self, environment, max_timesteps, evaluation)\u001b[0m\n\u001b[1;32m    324\u001b[0m             \u001b[0;31m# Retrieve actions from agent\u001b[0m\u001b[0;34m\u001b[0m\u001b[0;34m\u001b[0m\u001b[0;34m\u001b[0m\u001b[0m\n\u001b[1;32m    325\u001b[0m             \u001b[0magent_start\u001b[0m \u001b[0;34m=\u001b[0m \u001b[0mtime\u001b[0m\u001b[0;34m.\u001b[0m\u001b[0mtime\u001b[0m\u001b[0;34m(\u001b[0m\u001b[0;34m)\u001b[0m\u001b[0;34m\u001b[0m\u001b[0;34m\u001b[0m\u001b[0m\n\u001b[0;32m--> 326\u001b[0;31m             \u001b[0mactions\u001b[0m \u001b[0;34m=\u001b[0m \u001b[0mself\u001b[0m\u001b[0;34m.\u001b[0m\u001b[0magent\u001b[0m\u001b[0;34m.\u001b[0m\u001b[0mact\u001b[0m\u001b[0;34m(\u001b[0m\u001b[0mstates\u001b[0m\u001b[0;34m=\u001b[0m\u001b[0mstates\u001b[0m\u001b[0;34m,\u001b[0m \u001b[0mevaluation\u001b[0m\u001b[0;34m=\u001b[0m\u001b[0mevaluation\u001b[0m\u001b[0;34m)\u001b[0m\u001b[0;34m\u001b[0m\u001b[0;34m\u001b[0m\u001b[0m\n\u001b[0m\u001b[1;32m    327\u001b[0m             \u001b[0mself\u001b[0m\u001b[0;34m.\u001b[0m\u001b[0mtimesteps\u001b[0m \u001b[0;34m+=\u001b[0m \u001b[0;36m1\u001b[0m\u001b[0;34m\u001b[0m\u001b[0;34m\u001b[0m\u001b[0m\n\u001b[1;32m    328\u001b[0m             \u001b[0mself\u001b[0m\u001b[0;34m.\u001b[0m\u001b[0mepisode_agent_second\u001b[0m \u001b[0;34m+=\u001b[0m \u001b[0mtime\u001b[0m\u001b[0;34m.\u001b[0m\u001b[0mtime\u001b[0m\u001b[0;34m(\u001b[0m\u001b[0;34m)\u001b[0m \u001b[0;34m-\u001b[0m \u001b[0magent_start\u001b[0m\u001b[0;34m\u001b[0m\u001b[0;34m\u001b[0m\u001b[0m\n",
            "\u001b[0;32m/usr/local/lib/python3.6/dist-packages/tensorforce/agents/agent.py\u001b[0m in \u001b[0;36mact\u001b[0;34m(self, states, parallel, deterministic, independent, evaluation, query, **kwargs)\u001b[0m\n\u001b[1;32m    315\u001b[0m             actions, self.timesteps = self.model.act(\n\u001b[1;32m    316\u001b[0m                 \u001b[0mstates\u001b[0m\u001b[0;34m=\u001b[0m\u001b[0mstates\u001b[0m\u001b[0;34m,\u001b[0m \u001b[0mauxiliaries\u001b[0m\u001b[0;34m=\u001b[0m\u001b[0mauxiliaries\u001b[0m\u001b[0;34m,\u001b[0m \u001b[0mparallel\u001b[0m\u001b[0;34m=\u001b[0m\u001b[0mparallel\u001b[0m\u001b[0;34m,\u001b[0m\u001b[0;34m\u001b[0m\u001b[0;34m\u001b[0m\u001b[0m\n\u001b[0;32m--> 317\u001b[0;31m                 \u001b[0mdeterministic\u001b[0m\u001b[0;34m=\u001b[0m\u001b[0mdeterministic\u001b[0m\u001b[0;34m,\u001b[0m \u001b[0mindependent\u001b[0m\u001b[0;34m=\u001b[0m\u001b[0mindependent\u001b[0m\u001b[0;34m,\u001b[0m \u001b[0;34m**\u001b[0m\u001b[0mkwargs\u001b[0m\u001b[0;34m\u001b[0m\u001b[0;34m\u001b[0m\u001b[0m\n\u001b[0m\u001b[1;32m    318\u001b[0m             )\n\u001b[1;32m    319\u001b[0m \u001b[0;34m\u001b[0m\u001b[0m\n",
            "\u001b[0;32m/usr/local/lib/python3.6/dist-packages/tensorforce/core/module.py\u001b[0m in \u001b[0;36mfn\u001b[0;34m(query, **kwargs)\u001b[0m\n\u001b[1;32m    558\u001b[0m \u001b[0;34m\u001b[0m\u001b[0m\n\u001b[1;32m    559\u001b[0m             \u001b[0;31m# TensorFlow session call\u001b[0m\u001b[0;34m\u001b[0m\u001b[0;34m\u001b[0m\u001b[0;34m\u001b[0m\u001b[0m\n\u001b[0;32m--> 560\u001b[0;31m             \u001b[0mfetched\u001b[0m \u001b[0;34m=\u001b[0m \u001b[0mself\u001b[0m\u001b[0;34m.\u001b[0m\u001b[0mmonitored_session\u001b[0m\u001b[0;34m.\u001b[0m\u001b[0mrun\u001b[0m\u001b[0;34m(\u001b[0m\u001b[0mfetches\u001b[0m\u001b[0;34m=\u001b[0m\u001b[0mfetches\u001b[0m\u001b[0;34m,\u001b[0m \u001b[0mfeed_dict\u001b[0m\u001b[0;34m=\u001b[0m\u001b[0mfeed_dict\u001b[0m\u001b[0;34m)\u001b[0m\u001b[0;34m\u001b[0m\u001b[0;34m\u001b[0m\u001b[0m\n\u001b[0m\u001b[1;32m    561\u001b[0m \u001b[0;34m\u001b[0m\u001b[0m\n\u001b[1;32m    562\u001b[0m             \u001b[0;32mreturn\u001b[0m \u001b[0mfetched\u001b[0m\u001b[0;34m\u001b[0m\u001b[0;34m\u001b[0m\u001b[0m\n",
            "\u001b[0;32m/usr/local/lib/python3.6/dist-packages/tensorflow_core/python/training/monitored_session.py\u001b[0m in \u001b[0;36mrun\u001b[0;34m(self, fetches, feed_dict, options, run_metadata)\u001b[0m\n\u001b[1;32m    752\u001b[0m         \u001b[0mfeed_dict\u001b[0m\u001b[0;34m=\u001b[0m\u001b[0mfeed_dict\u001b[0m\u001b[0;34m,\u001b[0m\u001b[0;34m\u001b[0m\u001b[0;34m\u001b[0m\u001b[0m\n\u001b[1;32m    753\u001b[0m         \u001b[0moptions\u001b[0m\u001b[0;34m=\u001b[0m\u001b[0moptions\u001b[0m\u001b[0;34m,\u001b[0m\u001b[0;34m\u001b[0m\u001b[0;34m\u001b[0m\u001b[0m\n\u001b[0;32m--> 754\u001b[0;31m         run_metadata=run_metadata)\n\u001b[0m\u001b[1;32m    755\u001b[0m \u001b[0;34m\u001b[0m\u001b[0m\n\u001b[1;32m    756\u001b[0m   \u001b[0;32mdef\u001b[0m \u001b[0mrun_step_fn\u001b[0m\u001b[0;34m(\u001b[0m\u001b[0mself\u001b[0m\u001b[0;34m,\u001b[0m \u001b[0mstep_fn\u001b[0m\u001b[0;34m)\u001b[0m\u001b[0;34m:\u001b[0m\u001b[0;34m\u001b[0m\u001b[0;34m\u001b[0m\u001b[0m\n",
            "\u001b[0;32m/usr/local/lib/python3.6/dist-packages/tensorflow_core/python/training/monitored_session.py\u001b[0m in \u001b[0;36mrun\u001b[0;34m(self, *args, **kwargs)\u001b[0m\n\u001b[1;32m   1358\u001b[0m         \u001b[0;32mraise\u001b[0m \u001b[0msix\u001b[0m\u001b[0;34m.\u001b[0m\u001b[0mreraise\u001b[0m\u001b[0;34m(\u001b[0m\u001b[0;34m*\u001b[0m\u001b[0moriginal_exc_info\u001b[0m\u001b[0;34m)\u001b[0m\u001b[0;34m\u001b[0m\u001b[0;34m\u001b[0m\u001b[0m\n\u001b[1;32m   1359\u001b[0m       \u001b[0;32melse\u001b[0m\u001b[0;34m:\u001b[0m\u001b[0;34m\u001b[0m\u001b[0;34m\u001b[0m\u001b[0m\n\u001b[0;32m-> 1360\u001b[0;31m         \u001b[0;32mraise\u001b[0m \u001b[0msix\u001b[0m\u001b[0;34m.\u001b[0m\u001b[0mreraise\u001b[0m\u001b[0;34m(\u001b[0m\u001b[0;34m*\u001b[0m\u001b[0moriginal_exc_info\u001b[0m\u001b[0;34m)\u001b[0m\u001b[0;34m\u001b[0m\u001b[0;34m\u001b[0m\u001b[0m\n\u001b[0m\u001b[1;32m   1361\u001b[0m \u001b[0;34m\u001b[0m\u001b[0m\n\u001b[1;32m   1362\u001b[0m \u001b[0;34m\u001b[0m\u001b[0m\n",
            "\u001b[0;32m/usr/local/lib/python3.6/dist-packages/six.py\u001b[0m in \u001b[0;36mreraise\u001b[0;34m(tp, value, tb)\u001b[0m\n\u001b[1;32m    691\u001b[0m             \u001b[0;32mif\u001b[0m \u001b[0mvalue\u001b[0m\u001b[0;34m.\u001b[0m\u001b[0m__traceback__\u001b[0m \u001b[0;32mis\u001b[0m \u001b[0;32mnot\u001b[0m \u001b[0mtb\u001b[0m\u001b[0;34m:\u001b[0m\u001b[0;34m\u001b[0m\u001b[0;34m\u001b[0m\u001b[0m\n\u001b[1;32m    692\u001b[0m                 \u001b[0;32mraise\u001b[0m \u001b[0mvalue\u001b[0m\u001b[0;34m.\u001b[0m\u001b[0mwith_traceback\u001b[0m\u001b[0;34m(\u001b[0m\u001b[0mtb\u001b[0m\u001b[0;34m)\u001b[0m\u001b[0;34m\u001b[0m\u001b[0;34m\u001b[0m\u001b[0m\n\u001b[0;32m--> 693\u001b[0;31m             \u001b[0;32mraise\u001b[0m \u001b[0mvalue\u001b[0m\u001b[0;34m\u001b[0m\u001b[0;34m\u001b[0m\u001b[0m\n\u001b[0m\u001b[1;32m    694\u001b[0m         \u001b[0;32mfinally\u001b[0m\u001b[0;34m:\u001b[0m\u001b[0;34m\u001b[0m\u001b[0;34m\u001b[0m\u001b[0m\n\u001b[1;32m    695\u001b[0m             \u001b[0mvalue\u001b[0m \u001b[0;34m=\u001b[0m \u001b[0;32mNone\u001b[0m\u001b[0;34m\u001b[0m\u001b[0;34m\u001b[0m\u001b[0m\n",
            "\u001b[0;32m/usr/local/lib/python3.6/dist-packages/tensorflow_core/python/training/monitored_session.py\u001b[0m in \u001b[0;36mrun\u001b[0;34m(self, *args, **kwargs)\u001b[0m\n\u001b[1;32m   1343\u001b[0m   \u001b[0;32mdef\u001b[0m \u001b[0mrun\u001b[0m\u001b[0;34m(\u001b[0m\u001b[0mself\u001b[0m\u001b[0;34m,\u001b[0m \u001b[0;34m*\u001b[0m\u001b[0margs\u001b[0m\u001b[0;34m,\u001b[0m \u001b[0;34m**\u001b[0m\u001b[0mkwargs\u001b[0m\u001b[0;34m)\u001b[0m\u001b[0;34m:\u001b[0m\u001b[0;34m\u001b[0m\u001b[0;34m\u001b[0m\u001b[0m\n\u001b[1;32m   1344\u001b[0m     \u001b[0;32mtry\u001b[0m\u001b[0;34m:\u001b[0m\u001b[0;34m\u001b[0m\u001b[0;34m\u001b[0m\u001b[0m\n\u001b[0;32m-> 1345\u001b[0;31m       \u001b[0;32mreturn\u001b[0m \u001b[0mself\u001b[0m\u001b[0;34m.\u001b[0m\u001b[0m_sess\u001b[0m\u001b[0;34m.\u001b[0m\u001b[0mrun\u001b[0m\u001b[0;34m(\u001b[0m\u001b[0;34m*\u001b[0m\u001b[0margs\u001b[0m\u001b[0;34m,\u001b[0m \u001b[0;34m**\u001b[0m\u001b[0mkwargs\u001b[0m\u001b[0;34m)\u001b[0m\u001b[0;34m\u001b[0m\u001b[0;34m\u001b[0m\u001b[0m\n\u001b[0m\u001b[1;32m   1346\u001b[0m     \u001b[0;32mexcept\u001b[0m \u001b[0m_PREEMPTION_ERRORS\u001b[0m\u001b[0;34m:\u001b[0m\u001b[0;34m\u001b[0m\u001b[0;34m\u001b[0m\u001b[0m\n\u001b[1;32m   1347\u001b[0m       \u001b[0;32mraise\u001b[0m\u001b[0;34m\u001b[0m\u001b[0;34m\u001b[0m\u001b[0m\n",
            "\u001b[0;32m/usr/local/lib/python3.6/dist-packages/tensorflow_core/python/training/monitored_session.py\u001b[0m in \u001b[0;36mrun\u001b[0;34m(self, fetches, feed_dict, options, run_metadata)\u001b[0m\n\u001b[1;32m   1416\u001b[0m         \u001b[0mfeed_dict\u001b[0m\u001b[0;34m=\u001b[0m\u001b[0mfeed_dict\u001b[0m\u001b[0;34m,\u001b[0m\u001b[0;34m\u001b[0m\u001b[0;34m\u001b[0m\u001b[0m\n\u001b[1;32m   1417\u001b[0m         \u001b[0moptions\u001b[0m\u001b[0;34m=\u001b[0m\u001b[0moptions\u001b[0m\u001b[0;34m,\u001b[0m\u001b[0;34m\u001b[0m\u001b[0;34m\u001b[0m\u001b[0m\n\u001b[0;32m-> 1418\u001b[0;31m         run_metadata=run_metadata)\n\u001b[0m\u001b[1;32m   1419\u001b[0m \u001b[0;34m\u001b[0m\u001b[0m\n\u001b[1;32m   1420\u001b[0m     \u001b[0;32mfor\u001b[0m \u001b[0mhook\u001b[0m \u001b[0;32min\u001b[0m \u001b[0mself\u001b[0m\u001b[0;34m.\u001b[0m\u001b[0m_hooks\u001b[0m\u001b[0;34m:\u001b[0m\u001b[0;34m\u001b[0m\u001b[0;34m\u001b[0m\u001b[0m\n",
            "\u001b[0;32m/usr/local/lib/python3.6/dist-packages/tensorflow_core/python/training/monitored_session.py\u001b[0m in \u001b[0;36mrun\u001b[0;34m(self, *args, **kwargs)\u001b[0m\n\u001b[1;32m   1174\u001b[0m \u001b[0;34m\u001b[0m\u001b[0m\n\u001b[1;32m   1175\u001b[0m   \u001b[0;32mdef\u001b[0m \u001b[0mrun\u001b[0m\u001b[0;34m(\u001b[0m\u001b[0mself\u001b[0m\u001b[0;34m,\u001b[0m \u001b[0;34m*\u001b[0m\u001b[0margs\u001b[0m\u001b[0;34m,\u001b[0m \u001b[0;34m**\u001b[0m\u001b[0mkwargs\u001b[0m\u001b[0;34m)\u001b[0m\u001b[0;34m:\u001b[0m\u001b[0;34m\u001b[0m\u001b[0;34m\u001b[0m\u001b[0m\n\u001b[0;32m-> 1176\u001b[0;31m     \u001b[0;32mreturn\u001b[0m \u001b[0mself\u001b[0m\u001b[0;34m.\u001b[0m\u001b[0m_sess\u001b[0m\u001b[0;34m.\u001b[0m\u001b[0mrun\u001b[0m\u001b[0;34m(\u001b[0m\u001b[0;34m*\u001b[0m\u001b[0margs\u001b[0m\u001b[0;34m,\u001b[0m \u001b[0;34m**\u001b[0m\u001b[0mkwargs\u001b[0m\u001b[0;34m)\u001b[0m\u001b[0;34m\u001b[0m\u001b[0;34m\u001b[0m\u001b[0m\n\u001b[0m\u001b[1;32m   1177\u001b[0m \u001b[0;34m\u001b[0m\u001b[0m\n\u001b[1;32m   1178\u001b[0m   \u001b[0;32mdef\u001b[0m \u001b[0mrun_step_fn\u001b[0m\u001b[0;34m(\u001b[0m\u001b[0mself\u001b[0m\u001b[0;34m,\u001b[0m \u001b[0mstep_fn\u001b[0m\u001b[0;34m,\u001b[0m \u001b[0mraw_session\u001b[0m\u001b[0;34m,\u001b[0m \u001b[0mrun_with_hooks\u001b[0m\u001b[0;34m)\u001b[0m\u001b[0;34m:\u001b[0m\u001b[0;34m\u001b[0m\u001b[0;34m\u001b[0m\u001b[0m\n",
            "\u001b[0;32m/usr/local/lib/python3.6/dist-packages/tensorflow_core/python/client/session.py\u001b[0m in \u001b[0;36mrun\u001b[0;34m(self, fetches, feed_dict, options, run_metadata)\u001b[0m\n\u001b[1;32m    954\u001b[0m     \u001b[0;32mtry\u001b[0m\u001b[0;34m:\u001b[0m\u001b[0;34m\u001b[0m\u001b[0;34m\u001b[0m\u001b[0m\n\u001b[1;32m    955\u001b[0m       result = self._run(None, fetches, feed_dict, options_ptr,\n\u001b[0;32m--> 956\u001b[0;31m                          run_metadata_ptr)\n\u001b[0m\u001b[1;32m    957\u001b[0m       \u001b[0;32mif\u001b[0m \u001b[0mrun_metadata\u001b[0m\u001b[0;34m:\u001b[0m\u001b[0;34m\u001b[0m\u001b[0;34m\u001b[0m\u001b[0m\n\u001b[1;32m    958\u001b[0m         \u001b[0mproto_data\u001b[0m \u001b[0;34m=\u001b[0m \u001b[0mtf_session\u001b[0m\u001b[0;34m.\u001b[0m\u001b[0mTF_GetBuffer\u001b[0m\u001b[0;34m(\u001b[0m\u001b[0mrun_metadata_ptr\u001b[0m\u001b[0;34m)\u001b[0m\u001b[0;34m\u001b[0m\u001b[0;34m\u001b[0m\u001b[0m\n",
            "\u001b[0;32m/usr/local/lib/python3.6/dist-packages/tensorflow_core/python/client/session.py\u001b[0m in \u001b[0;36m_run\u001b[0;34m(self, handle, fetches, feed_dict, options, run_metadata)\u001b[0m\n\u001b[1;32m   1154\u001b[0m                 \u001b[0;34m'Cannot feed value of shape %r for Tensor %r, '\u001b[0m\u001b[0;34m\u001b[0m\u001b[0;34m\u001b[0m\u001b[0m\n\u001b[1;32m   1155\u001b[0m                 \u001b[0;34m'which has shape %r'\u001b[0m \u001b[0;34m%\u001b[0m\u001b[0;34m\u001b[0m\u001b[0;34m\u001b[0m\u001b[0m\n\u001b[0;32m-> 1156\u001b[0;31m                 (np_val.shape, subfeed_t.name, str(subfeed_t.get_shape())))\n\u001b[0m\u001b[1;32m   1157\u001b[0m           \u001b[0;32mif\u001b[0m \u001b[0;32mnot\u001b[0m \u001b[0mself\u001b[0m\u001b[0;34m.\u001b[0m\u001b[0mgraph\u001b[0m\u001b[0;34m.\u001b[0m\u001b[0mis_feedable\u001b[0m\u001b[0;34m(\u001b[0m\u001b[0msubfeed_t\u001b[0m\u001b[0;34m)\u001b[0m\u001b[0;34m:\u001b[0m\u001b[0;34m\u001b[0m\u001b[0;34m\u001b[0m\u001b[0m\n\u001b[1;32m   1158\u001b[0m             \u001b[0;32mraise\u001b[0m \u001b[0mValueError\u001b[0m\u001b[0;34m(\u001b[0m\u001b[0;34m'Tensor %s may not be fed.'\u001b[0m \u001b[0;34m%\u001b[0m \u001b[0msubfeed_t\u001b[0m\u001b[0;34m)\u001b[0m\u001b[0;34m\u001b[0m\u001b[0;34m\u001b[0m\u001b[0m\n",
            "\u001b[0;31mValueError\u001b[0m: Cannot feed value of shape (1, 1, 30) for Tensor 'agent/state-input:0', which has shape '(?, 10)'"
          ]
        }
      ]
    },
    {
      "cell_type": "markdown",
      "metadata": {
        "id": "SxQCf4Iw243y",
        "colab_type": "text"
      },
      "source": [
        "> > ### A2C"
      ]
    },
    {
      "cell_type": "code",
      "metadata": {
        "id": "vloAaRkG3JjV",
        "colab_type": "code",
        "outputId": "dded5ef8-c01b-47a9-d368-a99c4982244b",
        "colab": {
          "base_uri": "https://localhost:8080/",
          "height": 266
        }
      },
      "source": [
        "import os\n",
        "import sys\n",
        "import warnings\n",
        "import numpy\n",
        "import pandas as pd\n",
        "\n",
        "def warn(*args, **kwargs):\n",
        "    pass\n",
        "\n",
        "warnings.warn = warn\n",
        "warnings.simplefilter(action='ignore', category=FutureWarning)\n",
        "numpy.seterr(divide = 'ignore') \n",
        "#%% Module version check\n",
        "import tensorforce\n",
        "import tensorflow\n",
        "\n",
        "#%% Actions & Rewards\n",
        "from tensortrade.strategies import TensorforceTradingStrategy\n",
        "from tensortrade.rewards import PositionReward\n",
        "from tensortrade.actions import FuturePositionStrategy\n",
        "\n",
        "reward_strategy = PositionReward()\n",
        "action_strategy = FuturePositionStrategy(n_actions = 11)\n",
        "\n",
        "#%% Feature Pipeline\n",
        "from tensortrade.features.stationarity import FractionalDifference\n",
        "from tensortrade.features.scalers import MinMaxNormalizer\n",
        "from tensortrade.features import FeaturePipeline\n",
        "\n",
        "normalize = MinMaxNormalizer(inplace=True)\n",
        "difference = FractionalDifference(difference_order=0.6,\n",
        "                                  inplace=True)\n",
        "feature_pipeline = FeaturePipeline(steps=[])\n",
        "\n",
        "#%% Data Input (Exchanges)\n",
        "from tensortrade.exchanges.simulated import SimulatedExchange\n",
        "from tensortrade.exchanges.simulated.future_exchange_position import FutureExchangePosition\n",
        "data = pd.read_csv('NEW_DF.csv',index_col = 0)\n",
        "data.columns = map(str.lower, data.columns)\n",
        "\n",
        "data = data[data.index % 60 == 0]\n",
        "data = data.reset_index(drop = True)\n",
        "\n",
        "\n",
        "#exchange = FutureExchangePosition(data, base_instrument = 'USD', exclude_close = True,\n",
        "#                          initial_balance = 50000, observe_position = True)\n",
        "\n",
        "exchange = FutureExchangePosition(data, base_instrument = 'USD', exclude_close = True,\n",
        "                          initial_balance = 50000, observe_position = True)\n",
        "\n",
        "#%% Agent Specification\n",
        "network_spec = [\n",
        "    dict(type='dense', size=128, activation=\"tanh\"),\n",
        "    dict(type='dense', size=64, activation=\"tanh\"),\n",
        "    dict(type='dense', size=32, activation=\"tanh\")\n",
        "]\n",
        "\n",
        "agent_spec = {\n",
        "    \"type\": \"a2c\",\n",
        "    \"learning_rate\": 0.0003,\n",
        "    \"discount\": 1.0,\n",
        "    \"estimate_terminal\": False,\n",
        "    \"max_episode_timesteps\": 20000,\n",
        "    \"network\": network_spec,\n",
        "    \"batch_size\": 100,\n",
        "    \"update_frequency\":100\n",
        "}\n",
        "\n",
        "\n",
        "#%%Environment Setup\n",
        "from tensortrade.environments import TradingEnvironment\n",
        "\n",
        "environment = TradingEnvironment(exchange=exchange,\n",
        "                                 action_strategy=action_strategy,\n",
        "                                 reward_strategy=reward_strategy,\n",
        "                                 feature_pipeline=feature_pipeline)\n",
        "\n",
        "\n",
        "strategy = TensorforceTradingStrategy(environment=environment, \n",
        "                                      agent_spec=agent_spec, save_best_agent=False)\n",
        "#%%Start Over\n",
        "performance = strategy.run(episodes=100, evaluation=False)\n",
        "\n",
        "#manually store agent\n",
        "#strategy.save_agent(directory = 'save/', filename = '01')\n",
        "\n",
        "#%% Restore and Continue \n",
        "'''\n",
        "strategy.restore_agent(directory = 'save/', filename = '01')\n",
        "performance = strategy.run(episodes=(strategy._runner.agent.episodes + 20), evaluation=False)\n",
        "'''\n",
        "#%% Analysis\n",
        "performance =(pd.DataFrame(data = self._performance.T, columns = ['balance','net_worth','open_amount','price']))\n",
        "learning_curve = pd.Series(strategy._runner.episode_rewards)\n",
        "learning_curve.plot()"
      ],
      "execution_count": 6,
      "outputs": [
        {
          "output_type": "stream",
          "text": [
            "11\n",
            "DataFrame set: pipeline unused\n"
          ],
          "name": "stdout"
        },
        {
          "output_type": "error",
          "ename": "NameError",
          "evalue": "ignored",
          "traceback": [
            "\u001b[0;31m---------------------------------------------------------------------------\u001b[0m",
            "\u001b[0;31mNameError\u001b[0m                                 Traceback (most recent call last)",
            "\u001b[0;32m<ipython-input-6-facd662e7f78>\u001b[0m in \u001b[0;36m<module>\u001b[0;34m()\u001b[0m\n\u001b[1;32m     77\u001b[0m \u001b[0;34m\u001b[0m\u001b[0m\n\u001b[1;32m     78\u001b[0m environment = TradingEnvironment(exchange=exchange,\n\u001b[0;32m---> 79\u001b[0;31m                                  \u001b[0mportfolio\u001b[0m\u001b[0;34m=\u001b[0m\u001b[0mportfolio\u001b[0m\u001b[0;34m,\u001b[0m\u001b[0;34m\u001b[0m\u001b[0;34m\u001b[0m\u001b[0m\n\u001b[0m\u001b[1;32m     80\u001b[0m                                  \u001b[0maction_scheme\u001b[0m\u001b[0;34m=\u001b[0m\u001b[0maction_scheme\u001b[0m\u001b[0;34m,\u001b[0m\u001b[0;34m\u001b[0m\u001b[0;34m\u001b[0m\u001b[0m\n\u001b[1;32m     81\u001b[0m                                  \u001b[0mreward_scheme\u001b[0m\u001b[0;34m=\u001b[0m\u001b[0mreward_scheme\u001b[0m\u001b[0;34m,\u001b[0m\u001b[0;34m\u001b[0m\u001b[0;34m\u001b[0m\u001b[0m\n",
            "\u001b[0;31mNameError\u001b[0m: name 'portfolio' is not defined"
          ]
        }
      ]
    }
  ]
}