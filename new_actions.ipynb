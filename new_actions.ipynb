{
  "nbformat": 4,
  "nbformat_minor": 0,
  "metadata": {
    "kernelspec": {
      "name": "python3",
      "display_name": "Python 3"
    },
    "language_info": {
      "codemirror_mode": {
        "name": "ipython",
        "version": 3
      },
      "file_extension": ".py",
      "mimetype": "text/x-python",
      "name": "python",
      "nbconvert_exporter": "python",
      "pygments_lexer": "ipython3",
      "version": "3.7.4"
    },
    "colab": {
      "name": "new_actions.ipynb",
      "provenance": [],
      "collapsed_sections": [
        "ddcJtTUQ85ZK",
        "nqh8ZHFn8l25",
        "tcLurafG4NA5",
        "xVAw8APB4R6z",
        "gWDW6JoB20ld"
      ],
      "toc_visible": true,
      "include_colab_link": true
    },
    "accelerator": "GPU"
  },
  "cells": [
    {
      "cell_type": "markdown",
      "metadata": {
        "id": "view-in-github",
        "colab_type": "text"
      },
      "source": [
        "<a href=\"https://colab.research.google.com/github/robertalanm/TT_tests/blob/master/new_actions.ipynb\" target=\"_parent\"><img src=\"https://colab.research.google.com/assets/colab-badge.svg\" alt=\"Open In Colab\"/></a>"
      ]
    },
    {
      "cell_type": "markdown",
      "metadata": {
        "id": "2Hu2FlOgB99K",
        "colab_type": "text"
      },
      "source": [
        "# Requisites"
      ]
    },
    {
      "cell_type": "markdown",
      "metadata": {
        "id": "ddcJtTUQ85ZK",
        "colab_type": "text"
      },
      "source": [
        "> ## Old Tensortrade"
      ]
    },
    {
      "cell_type": "code",
      "metadata": {
        "id": "T1P8zVXv89lx",
        "colab_type": "code",
        "colab": {
          "base_uri": "https://localhost:8080/",
          "height": 360
        },
        "outputId": "b11642bb-20e3-45e6-bfb4-689f5e34c7fc"
      },
      "source": [
        "!pip install git+https://github.com/robertalanm/Tensortrade-old"
      ],
      "execution_count": 3,
      "outputs": [
        {
          "output_type": "stream",
          "text": [
            "Collecting git+https://github.com/robertalanm/Tensortrade-old\n",
            "  Cloning https://github.com/robertalanm/Tensortrade-old to /tmp/pip-req-build-hherwi4m\n",
            "  Running command git clone -q https://github.com/robertalanm/Tensortrade-old /tmp/pip-req-build-hherwi4m\n",
            "Requirement already satisfied (use --upgrade to upgrade): tensortrade==0.0.1a17 from git+https://github.com/robertalanm/Tensortrade-old in /usr/local/lib/python3.6/dist-packages\n",
            "Requirement already satisfied: numpy==1.16.4 in /usr/local/lib/python3.6/dist-packages (from tensortrade==0.0.1a17) (1.16.4)\n",
            "Requirement already satisfied: pandas==0.25.0 in /usr/local/lib/python3.6/dist-packages (from tensortrade==0.0.1a17) (0.25.0)\n",
            "Requirement already satisfied: gym==0.14.0 in /usr/local/lib/python3.6/dist-packages (from tensortrade==0.0.1a17) (0.14.0)\n",
            "Requirement already satisfied: python-dateutil>=2.6.1 in /usr/local/lib/python3.6/dist-packages (from pandas==0.25.0->tensortrade==0.0.1a17) (2.6.1)\n",
            "Requirement already satisfied: pytz>=2017.2 in /usr/local/lib/python3.6/dist-packages (from pandas==0.25.0->tensortrade==0.0.1a17) (2018.9)\n",
            "Requirement already satisfied: cloudpickle~=1.2.0 in /usr/local/lib/python3.6/dist-packages (from gym==0.14.0->tensortrade==0.0.1a17) (1.2.2)\n",
            "Requirement already satisfied: pyglet<=1.3.2,>=1.2.0 in /usr/local/lib/python3.6/dist-packages (from gym==0.14.0->tensortrade==0.0.1a17) (1.3.2)\n",
            "Requirement already satisfied: six in /usr/local/lib/python3.6/dist-packages (from gym==0.14.0->tensortrade==0.0.1a17) (1.12.0)\n",
            "Requirement already satisfied: scipy in /usr/local/lib/python3.6/dist-packages (from gym==0.14.0->tensortrade==0.0.1a17) (1.4.1)\n",
            "Requirement already satisfied: future in /usr/local/lib/python3.6/dist-packages (from pyglet<=1.3.2,>=1.2.0->gym==0.14.0->tensortrade==0.0.1a17) (0.16.0)\n",
            "Building wheels for collected packages: tensortrade\n",
            "  Building wheel for tensortrade (setup.py) ... \u001b[?25l\u001b[?25hdone\n",
            "  Created wheel for tensortrade: filename=tensortrade-0.0.1a17-cp36-none-any.whl size=54534 sha256=4efaea3dec894da3c54a12ba2cec54dd6fcaf587725d6131bc80039f6673b03a\n",
            "  Stored in directory: /tmp/pip-ephem-wheel-cache-1sp35rwr/wheels/92/a4/ec/dbcdbc6e8596c3d995ec5009d5bbc60fdf1560ab25dcca351a\n",
            "Successfully built tensortrade\n"
          ],
          "name": "stdout"
        }
      ]
    },
    {
      "cell_type": "code",
      "metadata": {
        "id": "rLIfSDLYD7sN",
        "colab_type": "code",
        "colab": {}
      },
      "source": [
        "%cd /content\n",
        "!wget http://prdownloads.sourceforge.net/ta-lib/ta-lib-0.4.0-src.tar.gz\n",
        "!tar -xzf ta-lib-0.4.0-src.tar.gz\n",
        "%cd ta-lib/\n",
        "!./configure --prefix=/usr\n",
        "!make\n",
        "!sudo make install\n",
        "%cd /content"
      ],
      "execution_count": 0,
      "outputs": []
    },
    {
      "cell_type": "code",
      "metadata": {
        "id": "eOVBDxXN-h11",
        "colab_type": "code",
        "colab": {
          "base_uri": "https://localhost:8080/",
          "height": 1000
        },
        "outputId": "9a2c027a-da7f-4b66-d2ae-6452860e7e1a"
      },
      "source": [
        "!pip install ccxt stochastic tensorforce==0.5.2\n",
        "!pip install git+https://github.com/mrjbq7/ta-lib"
      ],
      "execution_count": 40,
      "outputs": [
        {
          "output_type": "stream",
          "text": [
            "Requirement already satisfied: ccxt in /usr/local/lib/python3.6/dist-packages (1.21.59)\n",
            "Requirement already satisfied: stochastic in /usr/local/lib/python3.6/dist-packages (0.4.0)\n",
            "Collecting tensorforce==0.5.2\n",
            "\u001b[?25l  Downloading https://files.pythonhosted.org/packages/d7/7b/cebafd140baec0f452543d01494beaae152d90d988545188798a031bde41/Tensorforce-0.5.2-py3-none-any.whl (308kB)\n",
            "\u001b[K     |████████████████████████████████| 317kB 5.1MB/s \n",
            "\u001b[?25hRequirement already satisfied: cryptography>=2.6.1 in /usr/local/lib/python3.6/dist-packages (from ccxt) (2.8)\n",
            "Requirement already satisfied: aiodns==1.1.1; python_version >= \"3.5.2\" in /usr/local/lib/python3.6/dist-packages (from ccxt) (1.1.1)\n",
            "Requirement already satisfied: certifi>=2018.1.18 in /usr/local/lib/python3.6/dist-packages (from ccxt) (2019.11.28)\n",
            "Requirement already satisfied: yarl==1.1.0; python_version >= \"3.5.2\" in /usr/local/lib/python3.6/dist-packages (from ccxt) (1.1.0)\n",
            "Requirement already satisfied: setuptools>=38.5.1 in /usr/local/lib/python3.6/dist-packages (from ccxt) (42.0.2)\n",
            "Requirement already satisfied: requests>=2.18.4 in /usr/local/lib/python3.6/dist-packages (from ccxt) (2.21.0)\n",
            "Requirement already satisfied: aiohttp==3.6.2; python_version >= \"3.5.2\" in /usr/local/lib/python3.6/dist-packages (from ccxt) (3.6.2)\n",
            "Requirement already satisfied: scipy in /usr/local/lib/python3.6/dist-packages (from stochastic) (1.4.1)\n",
            "Requirement already satisfied: numpy in /usr/local/lib/python3.6/dist-packages (from stochastic) (1.16.4)\n",
            "Requirement already satisfied: pytest in /usr/local/lib/python3.6/dist-packages (from tensorforce==0.5.2) (3.6.4)\n",
            "Requirement already satisfied: matplotlib in /usr/local/lib/python3.6/dist-packages (from tensorforce==0.5.2) (3.1.2)\n",
            "Requirement already satisfied: tqdm in /usr/local/lib/python3.6/dist-packages (from tensorforce==0.5.2) (4.28.1)\n",
            "Requirement already satisfied: six>=1.4.1 in /usr/local/lib/python3.6/dist-packages (from cryptography>=2.6.1->ccxt) (1.12.0)\n",
            "Requirement already satisfied: cffi!=1.11.3,>=1.8 in /usr/local/lib/python3.6/dist-packages (from cryptography>=2.6.1->ccxt) (1.13.2)\n",
            "Requirement already satisfied: pycares>=1.0.0 in /usr/local/lib/python3.6/dist-packages (from aiodns==1.1.1; python_version >= \"3.5.2\"->ccxt) (3.1.1)\n",
            "Requirement already satisfied: multidict>=4.0 in /usr/local/lib/python3.6/dist-packages (from yarl==1.1.0; python_version >= \"3.5.2\"->ccxt) (4.7.4)\n",
            "Requirement already satisfied: idna>=2.0 in /usr/local/lib/python3.6/dist-packages (from yarl==1.1.0; python_version >= \"3.5.2\"->ccxt) (2.8)\n",
            "Requirement already satisfied: chardet<3.1.0,>=3.0.2 in /usr/local/lib/python3.6/dist-packages (from requests>=2.18.4->ccxt) (3.0.4)\n",
            "Requirement already satisfied: urllib3<1.25,>=1.21.1 in /usr/local/lib/python3.6/dist-packages (from requests>=2.18.4->ccxt) (1.24.3)\n",
            "Requirement already satisfied: attrs>=17.3.0 in /usr/local/lib/python3.6/dist-packages (from aiohttp==3.6.2; python_version >= \"3.5.2\"->ccxt) (19.3.0)\n",
            "Requirement already satisfied: async-timeout<4.0,>=3.0 in /usr/local/lib/python3.6/dist-packages (from aiohttp==3.6.2; python_version >= \"3.5.2\"->ccxt) (3.0.1)\n",
            "Requirement already satisfied: idna-ssl>=1.0; python_version < \"3.7\" in /usr/local/lib/python3.6/dist-packages (from aiohttp==3.6.2; python_version >= \"3.5.2\"->ccxt) (1.1.0)\n",
            "Requirement already satisfied: typing-extensions>=3.6.5; python_version < \"3.7\" in /usr/local/lib/python3.6/dist-packages (from aiohttp==3.6.2; python_version >= \"3.5.2\"->ccxt) (3.6.6)\n",
            "Requirement already satisfied: more-itertools>=4.0.0 in /usr/local/lib/python3.6/dist-packages (from pytest->tensorforce==0.5.2) (8.0.2)\n",
            "Requirement already satisfied: pluggy<0.8,>=0.5 in /usr/local/lib/python3.6/dist-packages (from pytest->tensorforce==0.5.2) (0.7.1)\n",
            "Requirement already satisfied: atomicwrites>=1.0 in /usr/local/lib/python3.6/dist-packages (from pytest->tensorforce==0.5.2) (1.3.0)\n",
            "Requirement already satisfied: py>=1.5.0 in /usr/local/lib/python3.6/dist-packages (from pytest->tensorforce==0.5.2) (1.8.1)\n",
            "Requirement already satisfied: cycler>=0.10 in /usr/local/lib/python3.6/dist-packages (from matplotlib->tensorforce==0.5.2) (0.10.0)\n",
            "Requirement already satisfied: python-dateutil>=2.1 in /usr/local/lib/python3.6/dist-packages (from matplotlib->tensorforce==0.5.2) (2.6.1)\n",
            "Requirement already satisfied: kiwisolver>=1.0.1 in /usr/local/lib/python3.6/dist-packages (from matplotlib->tensorforce==0.5.2) (1.1.0)\n",
            "Requirement already satisfied: pyparsing!=2.0.4,!=2.1.2,!=2.1.6,>=2.0.1 in /usr/local/lib/python3.6/dist-packages (from matplotlib->tensorforce==0.5.2) (2.4.6)\n",
            "Requirement already satisfied: pycparser in /usr/local/lib/python3.6/dist-packages (from cffi!=1.11.3,>=1.8->cryptography>=2.6.1->ccxt) (2.19)\n",
            "Installing collected packages: tensorforce\n",
            "  Found existing installation: tensorforce 0.4.4\n",
            "    Uninstalling tensorforce-0.4.4:\n",
            "      Successfully uninstalled tensorforce-0.4.4\n",
            "Successfully installed tensorforce-0.5.2\n"
          ],
          "name": "stdout"
        },
        {
          "output_type": "display_data",
          "data": {
            "application/vnd.colab-display-data+json": {
              "pip_warning": {
                "packages": [
                  "tensorforce"
                ]
              }
            }
          },
          "metadata": {
            "tags": []
          }
        },
        {
          "output_type": "stream",
          "text": [
            "Collecting git+https://github.com/mrjbq7/ta-lib\n",
            "  Cloning https://github.com/mrjbq7/ta-lib to /tmp/pip-req-build-4fo6rsm7\n",
            "  Running command git clone -q https://github.com/mrjbq7/ta-lib /tmp/pip-req-build-4fo6rsm7\n",
            "Requirement already satisfied (use --upgrade to upgrade): TA-Lib==0.4.18 from git+https://github.com/mrjbq7/ta-lib in /usr/local/lib/python3.6/dist-packages\n",
            "Requirement already satisfied: numpy in /usr/local/lib/python3.6/dist-packages (from TA-Lib==0.4.18) (1.16.4)\n",
            "Building wheels for collected packages: TA-Lib\n",
            "  Building wheel for TA-Lib (setup.py) ... \u001b[?25l\u001b[?25hdone\n",
            "  Created wheel for TA-Lib: filename=TA_Lib-0.4.18-cp36-cp36m-linux_x86_64.whl size=1528881 sha256=1e3a74fe829c408d0a5ca9d6290f4c7a1f42c79184a1e8edce7eaaf515e7eb4b\n",
            "  Stored in directory: /tmp/pip-ephem-wheel-cache-lw3gbogl/wheels/7c/09/16/87b01ae949260f15a1821ae29d58a15642c203fcc03d049fcb\n",
            "Successfully built TA-Lib\n"
          ],
          "name": "stdout"
        }
      ]
    },
    {
      "cell_type": "markdown",
      "metadata": {
        "id": "nqh8ZHFn8l25",
        "colab_type": "text"
      },
      "source": [
        "> ## Latest Tensortrade"
      ]
    },
    {
      "cell_type": "code",
      "metadata": {
        "id": "VcfNzEYwL8Bj",
        "colab_type": "code",
        "outputId": "c91a35a7-adcf-4743-ebdc-1c8c76411cf6",
        "colab": {
          "base_uri": "https://localhost:8080/",
          "height": 786
        }
      },
      "source": [
        "#!pip install git+https://github.com/robertalanm/TT_tests\n",
        "!pip install git+https://github.com/notadamking/tensortrade"
      ],
      "execution_count": 7,
      "outputs": [
        {
          "output_type": "stream",
          "text": [
            "Collecting git+https://github.com/notadamking/tensortrade\n",
            "  Cloning https://github.com/notadamking/tensortrade to /tmp/pip-req-build-836lq9n9\n",
            "  Running command git clone -q https://github.com/notadamking/tensortrade /tmp/pip-req-build-836lq9n9\n",
            "Requirement already satisfied: numpy==1.16.4 in /usr/local/lib/python3.6/dist-packages (from tensortrade==0.1.0rc1) (1.16.4)\n",
            "Requirement already satisfied: pandas==0.25.0 in /usr/local/lib/python3.6/dist-packages (from tensortrade==0.1.0rc1) (0.25.0)\n",
            "Requirement already satisfied: gym==0.14.0 in /usr/local/lib/python3.6/dist-packages (from tensortrade==0.1.0rc1) (0.14.0)\n",
            "Collecting pyyaml==5.1.2\n",
            "\u001b[?25l  Downloading https://files.pythonhosted.org/packages/e3/e8/b3212641ee2718d556df0f23f78de8303f068fe29cdaa7a91018849582fe/PyYAML-5.1.2.tar.gz (265kB)\n",
            "\u001b[K     |████████████████████████████████| 266kB 5.0MB/s \n",
            "\u001b[?25hCollecting sympy==1.4\n",
            "\u001b[?25l  Downloading https://files.pythonhosted.org/packages/21/21/f4105795ca7f35c541d82c5b06be684dd2f5cb4f508fb487cd7aea4de776/sympy-1.4-py2.py3-none-any.whl (5.3MB)\n",
            "\u001b[K     |████████████████████████████████| 5.3MB 10.9MB/s \n",
            "\u001b[?25hRequirement already satisfied: pytz>=2017.2 in /usr/local/lib/python3.6/dist-packages (from pandas==0.25.0->tensortrade==0.1.0rc1) (2018.9)\n",
            "Requirement already satisfied: python-dateutil>=2.6.1 in /usr/local/lib/python3.6/dist-packages (from pandas==0.25.0->tensortrade==0.1.0rc1) (2.6.1)\n",
            "Requirement already satisfied: scipy in /usr/local/lib/python3.6/dist-packages (from gym==0.14.0->tensortrade==0.1.0rc1) (1.4.1)\n",
            "Requirement already satisfied: cloudpickle~=1.2.0 in /usr/local/lib/python3.6/dist-packages (from gym==0.14.0->tensortrade==0.1.0rc1) (1.2.2)\n",
            "Requirement already satisfied: pyglet<=1.3.2,>=1.2.0 in /usr/local/lib/python3.6/dist-packages (from gym==0.14.0->tensortrade==0.1.0rc1) (1.3.2)\n",
            "Requirement already satisfied: six in /usr/local/lib/python3.6/dist-packages (from gym==0.14.0->tensortrade==0.1.0rc1) (1.12.0)\n",
            "Requirement already satisfied: mpmath>=0.19 in /usr/local/lib/python3.6/dist-packages (from sympy==1.4->tensortrade==0.1.0rc1) (1.1.0)\n",
            "Requirement already satisfied: future in /usr/local/lib/python3.6/dist-packages (from pyglet<=1.3.2,>=1.2.0->gym==0.14.0->tensortrade==0.1.0rc1) (0.16.0)\n",
            "Building wheels for collected packages: tensortrade, pyyaml\n",
            "  Building wheel for tensortrade (setup.py) ... \u001b[?25l\u001b[?25hdone\n",
            "  Created wheel for tensortrade: filename=tensortrade-0.1.0rc1-cp36-none-any.whl size=92945 sha256=f087deff3dfddfeb63ef006483630c261dd61950f8af2e85bf070918bddc5ed3\n",
            "  Stored in directory: /tmp/pip-ephem-wheel-cache-zw0_gkf_/wheels/7c/ed/66/c708e8f58e006fa34ffc022ac50de732e7a2aabb91654774f5\n",
            "  Building wheel for pyyaml (setup.py) ... \u001b[?25l\u001b[?25hdone\n",
            "  Created wheel for pyyaml: filename=PyYAML-5.1.2-cp36-cp36m-linux_x86_64.whl size=44104 sha256=90fde1115e28f20c2394c87960a590a70bc432d8c4a78d7c0264de0ac276b90d\n",
            "  Stored in directory: /root/.cache/pip/wheels/d9/45/dd/65f0b38450c47cf7e5312883deb97d065e030c5cca0a365030\n",
            "Successfully built tensortrade pyyaml\n",
            "Installing collected packages: pyyaml, sympy, tensortrade\n",
            "  Found existing installation: PyYAML 3.13\n",
            "    Uninstalling PyYAML-3.13:\n",
            "      Successfully uninstalled PyYAML-3.13\n",
            "  Found existing installation: sympy 1.1.1\n",
            "    Uninstalling sympy-1.1.1:\n",
            "      Successfully uninstalled sympy-1.1.1\n",
            "  Found existing installation: tensortrade 0.0.1a17\n",
            "    Uninstalling tensortrade-0.0.1a17:\n",
            "      Successfully uninstalled tensortrade-0.0.1a17\n",
            "Successfully installed pyyaml-5.1.2 sympy-1.4 tensortrade-0.1.0rc1\n"
          ],
          "name": "stdout"
        },
        {
          "output_type": "display_data",
          "data": {
            "application/vnd.colab-display-data+json": {
              "pip_warning": {
                "packages": [
                  "yaml"
                ]
              }
            }
          },
          "metadata": {
            "tags": []
          }
        }
      ]
    },
    {
      "cell_type": "code",
      "metadata": {
        "id": "TiSpBvv-NCgi",
        "colab_type": "code",
        "outputId": "61fbfaec-d4c5-4caa-a910-858f8b494ef1",
        "colab": {
          "base_uri": "https://localhost:8080/",
          "height": 683
        }
      },
      "source": [
        "!pip install ccxt stochastic tensorforce==0.5.2 ta"
      ],
      "execution_count": 1,
      "outputs": [
        {
          "output_type": "stream",
          "text": [
            "Requirement already satisfied: ccxt in /usr/local/lib/python3.6/dist-packages (1.21.59)\n",
            "Requirement already satisfied: stochastic in /usr/local/lib/python3.6/dist-packages (0.4.0)\n",
            "Requirement already satisfied: tensorforce==0.5.2 in /usr/local/lib/python3.6/dist-packages (0.5.2)\n",
            "Requirement already satisfied: ta in /usr/local/lib/python3.6/dist-packages (0.5.11)\n",
            "Requirement already satisfied: certifi>=2018.1.18 in /usr/local/lib/python3.6/dist-packages (from ccxt) (2019.11.28)\n",
            "Requirement already satisfied: setuptools>=38.5.1 in /usr/local/lib/python3.6/dist-packages (from ccxt) (42.0.2)\n",
            "Requirement already satisfied: aiodns==1.1.1; python_version >= \"3.5.2\" in /usr/local/lib/python3.6/dist-packages (from ccxt) (1.1.1)\n",
            "Requirement already satisfied: yarl==1.1.0; python_version >= \"3.5.2\" in /usr/local/lib/python3.6/dist-packages (from ccxt) (1.1.0)\n",
            "Requirement already satisfied: requests>=2.18.4 in /usr/local/lib/python3.6/dist-packages (from ccxt) (2.21.0)\n",
            "Requirement already satisfied: cryptography>=2.6.1 in /usr/local/lib/python3.6/dist-packages (from ccxt) (2.8)\n",
            "Requirement already satisfied: aiohttp==3.6.2; python_version >= \"3.5.2\" in /usr/local/lib/python3.6/dist-packages (from ccxt) (3.6.2)\n",
            "Requirement already satisfied: scipy in /usr/local/lib/python3.6/dist-packages (from stochastic) (1.4.1)\n",
            "Requirement already satisfied: numpy in /usr/local/lib/python3.6/dist-packages (from stochastic) (1.16.4)\n",
            "Requirement already satisfied: pytest in /usr/local/lib/python3.6/dist-packages (from tensorforce==0.5.2) (3.6.4)\n",
            "Requirement already satisfied: tqdm in /usr/local/lib/python3.6/dist-packages (from tensorforce==0.5.2) (4.28.1)\n",
            "Requirement already satisfied: matplotlib in /usr/local/lib/python3.6/dist-packages (from tensorforce==0.5.2) (3.1.2)\n",
            "Requirement already satisfied: pandas in /usr/local/lib/python3.6/dist-packages (from ta) (0.25.0)\n",
            "Requirement already satisfied: pycares>=1.0.0 in /usr/local/lib/python3.6/dist-packages (from aiodns==1.1.1; python_version >= \"3.5.2\"->ccxt) (3.1.1)\n",
            "Requirement already satisfied: idna>=2.0 in /usr/local/lib/python3.6/dist-packages (from yarl==1.1.0; python_version >= \"3.5.2\"->ccxt) (2.8)\n",
            "Requirement already satisfied: multidict>=4.0 in /usr/local/lib/python3.6/dist-packages (from yarl==1.1.0; python_version >= \"3.5.2\"->ccxt) (4.7.4)\n",
            "Requirement already satisfied: chardet<3.1.0,>=3.0.2 in /usr/local/lib/python3.6/dist-packages (from requests>=2.18.4->ccxt) (3.0.4)\n",
            "Requirement already satisfied: urllib3<1.25,>=1.21.1 in /usr/local/lib/python3.6/dist-packages (from requests>=2.18.4->ccxt) (1.24.3)\n",
            "Requirement already satisfied: cffi!=1.11.3,>=1.8 in /usr/local/lib/python3.6/dist-packages (from cryptography>=2.6.1->ccxt) (1.13.2)\n",
            "Requirement already satisfied: six>=1.4.1 in /usr/local/lib/python3.6/dist-packages (from cryptography>=2.6.1->ccxt) (1.12.0)\n",
            "Requirement already satisfied: attrs>=17.3.0 in /usr/local/lib/python3.6/dist-packages (from aiohttp==3.6.2; python_version >= \"3.5.2\"->ccxt) (19.3.0)\n",
            "Requirement already satisfied: idna-ssl>=1.0; python_version < \"3.7\" in /usr/local/lib/python3.6/dist-packages (from aiohttp==3.6.2; python_version >= \"3.5.2\"->ccxt) (1.1.0)\n",
            "Requirement already satisfied: async-timeout<4.0,>=3.0 in /usr/local/lib/python3.6/dist-packages (from aiohttp==3.6.2; python_version >= \"3.5.2\"->ccxt) (3.0.1)\n",
            "Requirement already satisfied: typing-extensions>=3.6.5; python_version < \"3.7\" in /usr/local/lib/python3.6/dist-packages (from aiohttp==3.6.2; python_version >= \"3.5.2\"->ccxt) (3.6.6)\n",
            "Requirement already satisfied: atomicwrites>=1.0 in /usr/local/lib/python3.6/dist-packages (from pytest->tensorforce==0.5.2) (1.3.0)\n",
            "Requirement already satisfied: pluggy<0.8,>=0.5 in /usr/local/lib/python3.6/dist-packages (from pytest->tensorforce==0.5.2) (0.7.1)\n",
            "Requirement already satisfied: more-itertools>=4.0.0 in /usr/local/lib/python3.6/dist-packages (from pytest->tensorforce==0.5.2) (8.0.2)\n",
            "Requirement already satisfied: py>=1.5.0 in /usr/local/lib/python3.6/dist-packages (from pytest->tensorforce==0.5.2) (1.8.1)\n",
            "Requirement already satisfied: python-dateutil>=2.1 in /usr/local/lib/python3.6/dist-packages (from matplotlib->tensorforce==0.5.2) (2.6.1)\n",
            "Requirement already satisfied: kiwisolver>=1.0.1 in /usr/local/lib/python3.6/dist-packages (from matplotlib->tensorforce==0.5.2) (1.1.0)\n",
            "Requirement already satisfied: cycler>=0.10 in /usr/local/lib/python3.6/dist-packages (from matplotlib->tensorforce==0.5.2) (0.10.0)\n",
            "Requirement already satisfied: pyparsing!=2.0.4,!=2.1.2,!=2.1.6,>=2.0.1 in /usr/local/lib/python3.6/dist-packages (from matplotlib->tensorforce==0.5.2) (2.4.6)\n",
            "Requirement already satisfied: pytz>=2017.2 in /usr/local/lib/python3.6/dist-packages (from pandas->ta) (2018.9)\n",
            "Requirement already satisfied: pycparser in /usr/local/lib/python3.6/dist-packages (from cffi!=1.11.3,>=1.8->cryptography>=2.6.1->ccxt) (2.19)\n"
          ],
          "name": "stdout"
        }
      ]
    },
    {
      "cell_type": "markdown",
      "metadata": {
        "id": "kdAJJs--B1Qq",
        "colab_type": "text"
      },
      "source": [
        "# Data Fetcher"
      ]
    },
    {
      "cell_type": "markdown",
      "metadata": {
        "id": "tcLurafG4NA5",
        "colab_type": "text"
      },
      "source": [
        "> ## pull data"
      ]
    },
    {
      "cell_type": "code",
      "metadata": {
        "id": "zRjnT1KoB42M",
        "colab_type": "code",
        "outputId": "bab9419a-95d7-416a-cf8e-d4737ef1b08a",
        "colab": {
          "base_uri": "https://localhost:8080/",
          "height": 198
        }
      },
      "source": [
        "import requests\n",
        "import time\n",
        "import csv\n",
        "import json\n",
        "import sys, os\n",
        "import datetime\n",
        "\n",
        "#fetching data from bitstamp and write to a csv file\n",
        "F_Z = \"%Y-%m-%dT%H:%M:%S.%fZ\"\n",
        "'''\n",
        "currency_pairs = ['BTC-USD', 'BTC-EUR', 'BTC-GBP',\n",
        "                  'ETH-USD', 'ETH-EUR', 'ETH-GBP',\n",
        "                  'BCH-USD', 'BCH-EUR', 'BCH-GBP',\n",
        "                  'LTC-USD', 'LTC-EUR', 'LTC-GBP',\n",
        "                    'ETC-USD', 'ETC-EUR', 'ETC-GBP',\n",
        "\n",
        "                  ]\n",
        "'''\n",
        "\n",
        "currency_pairs = ['BTC-USD']\n",
        "\n",
        "OB_url = 'https://api.pro.coinbase.com/products/%s/book?level=2'\n",
        "trans_url = 'https://api.pro.coinbase.com/products/%s/trades'\n",
        "\n",
        "trimmed_ob_limit = 30\n",
        "time_sleep = 25\n",
        "last_transaction = {}\n",
        "for i in currency_pairs:\n",
        "    last_transaction[i] = {'trade_id': '', 'time': str(datetime.datetime.utcnow().strftime(F_Z))}\n",
        "\n",
        "def try_parsing_date(text):\n",
        "    for fmt in ('%Y-%m-%dT%H:%M:%S.%fZ', '%Y-%m-%dT%H:%M:%SZ'):\n",
        "        try:\n",
        "            return datetime.datetime.strptime(text, fmt)\n",
        "        except ValueError:\n",
        "            pass\n",
        "    raise ValueError('no valid date format found')\n",
        "\n",
        "\n",
        "while True:\n",
        "    for curr_pair in currency_pairs:\n",
        "        try:\n",
        "            resp = requests.get(url=OB_url % curr_pair)\n",
        "            ob_snapshot = resp.json()\n",
        "            transactions = requests.get(url=trans_url % curr_pair).json()\n",
        "            transaction_recent = transactions[0] if len(transactions) > 0 else {'trade_id': ''}\n",
        "\n",
        "            last_transaction_time = try_parsing_date(last_transaction[curr_pair]['time']).timestamp()\n",
        "\n",
        "            filtered_list = [\n",
        "                {'side': i['side'], 'trade_id': i['trade_id'], 'price': i['price'],\n",
        "                 'size': i['size'], 'time': try_parsing_date(i['time']).timestamp()\n",
        "                 }\n",
        "                for i in transactions if \\\n",
        "                                try_parsing_date(i['time']).timestamp() >\n",
        "                             last_transaction_time]\n",
        "\n",
        "            recorded_transaction = json.dumps(filtered_list)  \\\n",
        "                if last_transaction[curr_pair]['trade_id'] != transaction_recent['trade_id'] else ''\n",
        "\n",
        "            filename = 'cb_%s.csv' % curr_pair\n",
        "\n",
        "            with open(filename, 'a') as csvfile:\n",
        "                fieldnames = ['timestamp', 'transactions', 'ob']\n",
        "                timestamp = int(time.time())\n",
        "                trimmed_ob = json.dumps({'bid': [[i[0], i[1]] for i in ob_snapshot['bids'][:trimmed_ob_limit]],\n",
        "                              'ask': [[i[0], i[1]] for i in ob_snapshot['asks'][:trimmed_ob_limit]]})\n",
        "                writer = csv.DictWriter(csvfile, fieldnames=fieldnames)\n",
        "                writer.writerow({'timestamp': timestamp, 'transactions': recorded_transaction, 'ob': trimmed_ob})\n",
        "                last_transaction[curr_pair] = transaction_recent\n",
        "        except Exception as e:\n",
        "            exc_type, exc_obj, exc_tb = sys.exc_info()\n",
        "            fname = os.path.split(exc_tb.tb_frame.f_code.co_filename)[1]\n",
        "            print(exc_type, fname, exc_tb.tb_lineno, e)\n",
        "        time.sleep(0.5)\n",
        "    time.sleep(time_sleep)"
      ],
      "execution_count": 0,
      "outputs": [
        {
          "output_type": "error",
          "ename": "KeyboardInterrupt",
          "evalue": "ignored",
          "traceback": [
            "\u001b[0;31m---------------------------------------------------------------------------\u001b[0m",
            "\u001b[0;31mKeyboardInterrupt\u001b[0m                         Traceback (most recent call last)",
            "\u001b[0;32m<ipython-input-4-79e879a260eb>\u001b[0m in \u001b[0;36m<module>\u001b[0;34m()\u001b[0m\n\u001b[1;32m     73\u001b[0m             \u001b[0mprint\u001b[0m\u001b[0;34m(\u001b[0m\u001b[0mexc_type\u001b[0m\u001b[0;34m,\u001b[0m \u001b[0mfname\u001b[0m\u001b[0;34m,\u001b[0m \u001b[0mexc_tb\u001b[0m\u001b[0;34m.\u001b[0m\u001b[0mtb_lineno\u001b[0m\u001b[0;34m,\u001b[0m \u001b[0me\u001b[0m\u001b[0;34m)\u001b[0m\u001b[0;34m\u001b[0m\u001b[0;34m\u001b[0m\u001b[0m\n\u001b[1;32m     74\u001b[0m         \u001b[0mtime\u001b[0m\u001b[0;34m.\u001b[0m\u001b[0msleep\u001b[0m\u001b[0;34m(\u001b[0m\u001b[0;36m0.5\u001b[0m\u001b[0;34m)\u001b[0m\u001b[0;34m\u001b[0m\u001b[0;34m\u001b[0m\u001b[0m\n\u001b[0;32m---> 75\u001b[0;31m     \u001b[0mtime\u001b[0m\u001b[0;34m.\u001b[0m\u001b[0msleep\u001b[0m\u001b[0;34m(\u001b[0m\u001b[0mtime_sleep\u001b[0m\u001b[0;34m)\u001b[0m\u001b[0;34m\u001b[0m\u001b[0;34m\u001b[0m\u001b[0m\n\u001b[0m",
            "\u001b[0;31mKeyboardInterrupt\u001b[0m: "
          ]
        }
      ]
    },
    {
      "cell_type": "markdown",
      "metadata": {
        "id": "xVAw8APB4R6z",
        "colab_type": "text"
      },
      "source": [
        "> ## Feature Transformation"
      ]
    },
    {
      "cell_type": "code",
      "metadata": {
        "id": "bzuBaHMDHA3i",
        "colab_type": "code",
        "outputId": "d91f7f21-c109-4b1e-e3de-d37d2896f52d",
        "colab": {
          "base_uri": "https://localhost:8080/",
          "height": 34
        }
      },
      "source": [
        "\n",
        "import pandas as pd\n",
        "import numpy as np\n",
        "import json\n",
        "import ast\n",
        "import matplotlib.pyplot as plt\n",
        "import matplotlib as mpl\n",
        "mpl.style.use('seaborn')\n",
        "\n",
        "# df = pd.read_csv('bitstamp_btcusd.csv', header=None, names=['timestamp', 'trades', 'book'])\n",
        "df = pd.read_csv('cb_BTC-USD.csv', header=None, names=['timestamp', 'trades', 'book'])\n",
        "\n",
        "df['trades'] = df['trades'].apply(lambda d: json.loads(d) if isinstance(d, str) else [])\n",
        "df['book'] = df['book'].apply(lambda d: json.loads(d))\n",
        "df.iloc[1]\n",
        "df.shape\n",
        "# df.iloc[1382]['book']"
      ],
      "execution_count": 3,
      "outputs": [
        {
          "output_type": "execute_result",
          "data": {
            "text/plain": [
              "(4253, 3)"
            ]
          },
          "metadata": {
            "tags": []
          },
          "execution_count": 3
        }
      ]
    },
    {
      "cell_type": "code",
      "metadata": {
        "id": "jNP8pVJVCYyF",
        "colab_type": "code",
        "colab": {}
      },
      "source": [
        "import math\n",
        "def trades_to_weighted_px(trades_arr):\n",
        "    notional = 0\n",
        "    qty = 0\n",
        "    for trade in trades_arr:\n",
        "        notional += float(trade['price']) * float(trade['size'])\n",
        "        qty += float(trade['size'])\n",
        "    \n",
        "    return notional / (qty + 1e-16)\n",
        "\n",
        "def trades_to_latest_px(trades_arr):\n",
        "    max_time = 0\n",
        "    trade_px = 0\n",
        "    for trade in trades_arr:\n",
        "        timestamp = int(trade['time'])\n",
        "        if timestamp > max_time:\n",
        "            trade_px = float(trade['price'])\n",
        "    return trade_px\n",
        "\n",
        "def trades_to_vol(trades):\n",
        "    qty = sum([float(trade['size']) for trade in trades])\n",
        "    return qty \n",
        "\n",
        "def trades_to_high(row):\n",
        "    if len(row['trades']) > 0:\n",
        "        return max(float(trade['price']) for trade in row['trades'])\n",
        "    else:\n",
        "        return row['latest_trade_px']\n",
        "\n",
        "# def trades_to_low(trades):\n",
        "#     return min(float(trade['price']) for trade in trades)\n",
        "\n",
        "def trades_to_low(row):\n",
        "    if len(row['trades']) > 0:\n",
        "        return min(float(trade['price']) for trade in row['trades'])\n",
        "    else:\n",
        "        return row['latest_trade_px']\n",
        "\n",
        "def interpolate_tradepx(df):\n",
        "    for i in range(len(df)):\n",
        "        trade_px = df.iloc[i]['trade_px']\n",
        "        if trade_px == 0:\n",
        "            if i == 0:\n",
        "                new_trade_px = 0\n",
        "                for j in range(len(df)):\n",
        "                    if df.iloc[j]['trade_px'] != 0:\n",
        "                        new_trade_px = df.iloc[j]['trade_px']\n",
        "                        break\n",
        "                df.iloc[i]['trade_px'] = new_trade_px\n",
        "            else:\n",
        "                df.iloc[i]['trade_px'] = df.iloc[i - 1]['trade_px'] \n",
        "\n",
        "\n",
        "def get_log_close(df):\n",
        "  for i in range(len(df)):\n",
        "    if i == 0:\n",
        "      return 0\n",
        "    if i > 0:\n",
        "      df['log_close'][i] = (math.log(df['bid_px'][i]) - math.log(df['ask_px'][i].shift(1)))\n",
        "\n",
        "\n",
        "\n",
        "def get_base_features(old_df):\n",
        "    df = old_df.copy()\n",
        "    \n",
        "    #generate base data\n",
        "    df['trade_px'] = df['trades'].apply(trades_to_weighted_px)\n",
        "    df['volume'] = df['trades'].apply(trades_to_vol)\n",
        "    df['latest_trade_px'] = df['trades'].apply(trades_to_latest_px)\n",
        "    df['latest_trade_px'] = df['latest_trade_px'].replace(to_replace=0, method='ffill')\n",
        "    df['bid_px'] = df['book'].apply(lambda x: float(x['bid'][0][0]))\n",
        "    df['ask_px'] = df['book'].apply(lambda x: float(x['ask'][0][0]))\n",
        "    df['bid_vol'] = df['book'].apply(lambda x: float(x['bid'][0][1]))\n",
        "    df['ask_vol'] = df['book'].apply(lambda x: float(x['ask'][0][1]))\n",
        "    df['mid_px'] = (df['bid_px'] + df['ask_px'])/2\n",
        "\n",
        "    #TA modules\n",
        "    df['High'] = df.apply(trades_to_high, axis=1)\n",
        "    df['Low'] = df.apply(trades_to_low, axis=1)\n",
        "    df['Timestamp'] = df['timestamp']\n",
        "    df['Close'] = df['latest_trade_px']\n",
        "    df['Open'] = df['latest_trade_px'].shift(1)\n",
        "    df['Volume'] = df['volume']\n",
        "    \n",
        "    # y\n",
        "    df['change_pct_latest_px'] = df['latest_trade_px'].pct_change()\n",
        "    df['px_change'] = df['latest_trade_px'].diff()\n",
        "    \n",
        "    # generate features\n",
        "    df['spread'] = df['ask_px'] - df['bid_px']\n",
        "    df['l1imbalance'] = (df['bid_vol'] - df['ask_vol']) / ((df['bid_vol'] + df['ask_vol']) + 1e-9)\n",
        "    df['bid_delta'] = df['bid_px'] - df['bid_px'].shift(1)\n",
        "    df['ask_delta'] = df['ask_px'] - df['ask_px'].shift(1)\n",
        "    df['bid_vol_delta'] = df['bid_vol'] - df['bid_vol'].shift(1)\n",
        "    df['ask_vol_delta'] = df['ask_vol'] - df['ask_vol'].shift(1)\n",
        "    df['bid_vol_acceleration'] = ((df['bid_vol_delta'] - df['bid_vol_delta'].shift(1)) / \n",
        "            (df['bid_vol_delta'].shift(1) + 1e-9))\n",
        "    df['ask_vol_acceleration'] = ((df['ask_vol_delta'] - df['ask_vol_delta'].shift(1)) / \n",
        "            (df['ask_vol_delta'].shift(1) + 1e-9))\n",
        "    \n",
        "    df['time_delta'] = df['timestamp'] - df['timestamp'].shift(1)\n",
        "    df['time_delta'] = df['time_delta'].apply(lambda seconds: np.nan if seconds > 40 else seconds)\n",
        "    \n",
        "    #l2 features\n",
        "    \n",
        "    \n",
        "    df = df.replace([np.inf, -np.inf], np.nan)\n",
        "    \n",
        "    return df"
      ],
      "execution_count": 0,
      "outputs": []
    },
    {
      "cell_type": "code",
      "metadata": {
        "id": "dsEr0fUJG8dy",
        "colab_type": "code",
        "colab": {}
      },
      "source": [
        "new_df = get_base_features(df).dropna()\n",
        "new_df.drop(df.iloc[:, 1:3], inplace = True, axis = 1)\n",
        "new_df.shape\n",
        "new_df\n",
        "# new_df.rolling(window=5).mean()\n",
        "new_df.to_csv('NEW_DF.csv')"
      ],
      "execution_count": 0,
      "outputs": []
    },
    {
      "cell_type": "markdown",
      "metadata": {
        "id": "xt5HcG8BB6Lc",
        "colab_type": "text"
      },
      "source": [
        "# Running Code"
      ]
    },
    {
      "cell_type": "markdown",
      "metadata": {
        "id": "wefE2wFLHmjo",
        "colab_type": "text"
      },
      "source": [
        "> ## Models"
      ]
    },
    {
      "cell_type": "markdown",
      "metadata": {
        "id": "7cxxX5weHv_b",
        "colab_type": "text"
      },
      "source": [
        "> ## Impl"
      ]
    },
    {
      "cell_type": "markdown",
      "metadata": {
        "id": "gWDW6JoB20ld",
        "colab_type": "text"
      },
      "source": [
        "> > ### Use with Tensorforce 0.5.2"
      ]
    },
    {
      "cell_type": "code",
      "metadata": {
        "scrolled": true,
        "id": "3F9F9S4PL5av",
        "colab_type": "code",
        "outputId": "7a6f6b89-fcbf-4780-b77d-5eb8c8541d7b",
        "colab": {
          "base_uri": "https://localhost:8080/",
          "height": 785
        }
      },
      "source": [
        "import tensorflow as tf\n",
        "import pandas as pd\n",
        "import ccxt\n",
        "\n",
        "from stable_baselines.common.policies import MlpLnLstmPolicy\n",
        "from stable_baselines import PPO2, ACER\n",
        "\n",
        "from tensorforce.agents import Agent\n",
        "\n",
        "from tensortrade.strategies import StableBaselinesTradingStrategy, TensorforceTradingStrategy\n",
        "from tensortrade.environments import TradingEnvironment\n",
        "from tensortrade.rewards import RiskAdjustedReturns\n",
        "from tensortrade.actions import ManagedRiskOrders, DynamicOrders\n",
        "from tensortrade.instruments import Quantity, TradingPair, BTC, USD\n",
        "from tensortrade.orders.criteria import Stop, StopDirection\n",
        "from tensortrade.wallets import Wallet, Portfolio\n",
        "from tensortrade.exchanges.simulated import SimulatedExchange\n",
        "from tensortrade.exchanges.live import CCXTExchange\n",
        "from tensortrade.features.stationarity import LogDifference\n",
        "from tensortrade.features.scalers import MinMaxNormalizer\n",
        "from tensortrade.features import FeaturePipeline\n",
        "\n",
        "WINDOW_SIZE = 4\n",
        "#PRICE_COLUMN = 'change_pct_latest_px'\n",
        "PRICE_COLUMN = 'close'\n",
        "\n",
        "normalize = MinMaxNormalizer(inplace=True)\n",
        "difference = LogDifference(inplace=True)\n",
        "feature_pipeline = FeaturePipeline(steps=[normalize, difference])\n",
        "\n",
        "action_scheme = ManagedRiskOrders(pairs=[USD/BTC], stop_loss_percentages=0.05, take_profit_percentages=0.6)\n",
        "reward_scheme = RiskAdjustedReturns(return_algorithm=\"sharpe\")\n",
        "\n",
        "csv_file = tf.keras.utils.get_file('Coinbase_BTCUSD_1h.csv', 'http://www.cryptodatadownload.com/cdd/Coinbase_BTCUSD_1h.csv')\n",
        "#ohlcv_data = pd.read_csv('NEW_DF.csv', skiprows=0, index_col=\"timestamp\")\n",
        "ohlcv_data = pd.read_csv(csv_file, skiprows=1, index_col=\"Date\")\n",
        "ohlcv_data.columns = map(str.lower, ohlcv_data.columns)\n",
        "ohlcv_data = ohlcv_data.rename(columns={'volume btc': 'volume'})\n",
        "\n",
        "\n",
        "#coinbase = ccxt.coinbasepro()\n",
        "#exchange = CCXTExchange(exchange=coinbase, base_instrument='USD')\n",
        "exchange = SimulatedExchange(data_frame=ohlcv_data, price_column=PRICE_COLUMN, randomize_time_slices=True)\n",
        "\n",
        "wallets = [(exchange, USD, 100), (exchange, BTC, 0)]\n",
        "\n",
        "portfolio = Portfolio(base_instrument=USD, wallets=wallets)\n",
        "\n",
        "environment = TradingEnvironment(exchange=exchange,\n",
        "                                 portfolio=portfolio,\n",
        "                                 action_scheme=action_scheme,\n",
        "                                 reward_scheme=reward_scheme,\n",
        "                                 feature_pipeline=feature_pipeline,\n",
        "                                 window_size=WINDOW_SIZE,\n",
        "                                 observe_wallets=[USD, BTC])\n",
        "\n",
        "print('Observation Data:')\n",
        "print(environment.observation_columns)\n",
        "\n",
        "model = PPO2\n",
        "#model = ACER\n",
        "policy = MlpLnLstmPolicy\n",
        "params = { \"learning_rate\": 1e-5, 'nminibatches': 1,  }\n",
        "#params = { \"learning_rate\": 1e-5,  }\n",
        "\n",
        "base_strategy = StableBaselinesTradingStrategy(environment=environment,\n",
        "                                          model=model,\n",
        "                                          policy=policy,\n",
        "                                          model_kwargs=params)\n",
        "\n",
        "\n",
        "agent = Agent.create(\n",
        "    agent='dueling_dqn',\n",
        "    states=dict(type='float', shape=(4,10)),\n",
        "    actions=dict(type='int', num_values=3),\n",
        "    max_episode_timesteps=100,\n",
        "    #memory=10000,\n",
        "    #update=dict(unit='timesteps', batch_size=64),\n",
        "    #optimizer=dict(type='adam', learning_rate=3e-4),\n",
        "    #policy=dict(network='auto'),\n",
        "    #objective='policy_gradient',\n",
        "    #reward_estimation=dict(horizon=20)\n",
        ")\n",
        "\n",
        "force_strategy = TensorforceTradingStrategy(environment=environment, \n",
        "                                      agent=agent, max_episode_timesteps=20000)\n",
        "\n",
        "force_strategy.run(steps=1000)\n",
        "print(f\"Tensorforce net worth: {portfolio.net_worth}\")\n",
        "base_strategy.run(steps=1000)\n",
        "print(f\"Baselines net worth: {portfolio.net_worth}\")\n"
      ],
      "execution_count": 50,
      "outputs": [
        {
          "output_type": "stream",
          "text": [
            "/usr/local/lib/python3.6/dist-packages/pandas/core/indexing.py:362: SettingWithCopyWarning: \n",
            "A value is trying to be set on a copy of a slice from a DataFrame.\n",
            "Try using .loc[row_indexer,col_indexer] = value instead\n",
            "\n",
            "See the caveats in the documentation: http://pandas.pydata.org/pandas-docs/stable/user_guide/indexing.html#returning-a-view-versus-a-copy\n",
            "  self.obj[key] = _infer_fill_value(value)\n",
            "/usr/local/lib/python3.6/dist-packages/pandas/core/indexing.py:480: SettingWithCopyWarning: \n",
            "A value is trying to be set on a copy of a slice from a DataFrame.\n",
            "Try using .loc[row_indexer,col_indexer] = value instead\n",
            "\n",
            "See the caveats in the documentation: http://pandas.pydata.org/pandas-docs/stable/user_guide/indexing.html#returning-a-view-versus-a-copy\n",
            "  self.obj[item] = s\n"
          ],
          "name": "stderr"
        },
        {
          "output_type": "stream",
          "text": [
            "Observation Data:\n",
            "['open' 'high' 'low' 'close' 'volume' 'volume usd' 'USD' 'BTC'\n",
            " 'USD_pending' 'BTC_pending']\n"
          ],
          "name": "stdout"
        },
        {
          "output_type": "stream",
          "text": [
            "\n",
            "\n",
            "\n",
            "\n",
            "\n",
            "\n",
            "Timesteps:   0%|          | 0/1000 [00:00<?, ?it/s, mean_reward=n/a]\u001b[A\u001b[A\u001b[A\u001b[A\u001b[A\u001b[A/usr/local/lib/python3.6/dist-packages/pandas/core/indexing.py:362: SettingWithCopyWarning: \n",
            "A value is trying to be set on a copy of a slice from a DataFrame.\n",
            "Try using .loc[row_indexer,col_indexer] = value instead\n",
            "\n",
            "See the caveats in the documentation: http://pandas.pydata.org/pandas-docs/stable/user_guide/indexing.html#returning-a-view-versus-a-copy\n",
            "  self.obj[key] = _infer_fill_value(value)\n",
            "/usr/local/lib/python3.6/dist-packages/pandas/core/indexing.py:480: SettingWithCopyWarning: \n",
            "A value is trying to be set on a copy of a slice from a DataFrame.\n",
            "Try using .loc[row_indexer,col_indexer] = value instead\n",
            "\n",
            "See the caveats in the documentation: http://pandas.pydata.org/pandas-docs/stable/user_guide/indexing.html#returning-a-view-versus-a-copy\n",
            "  self.obj[item] = s\n",
            "\n",
            "\n",
            "\n",
            "\n",
            "\n",
            "\n",
            "\u001b[A\u001b[A\u001b[A\u001b[A\u001b[A\u001b[A"
          ],
          "name": "stderr"
        },
        {
          "output_type": "stream",
          "text": [
            "Finished running strategy.\n",
            "Total episodes: 0 (1000 timesteps).\n",
            "Average reward: -19.26090056459747.\n",
            "Tensorforce net worth: 102.60238106685298\n",
            "Baselines net worth: 106.2635740482776\n"
          ],
          "name": "stdout"
        }
      ]
    },
    {
      "cell_type": "markdown",
      "metadata": {
        "id": "SxQCf4Iw243y",
        "colab_type": "text"
      },
      "source": [
        "> > ### Use with Tensorforce 0.4.4"
      ]
    },
    {
      "cell_type": "code",
      "metadata": {
        "colab_type": "code",
        "outputId": "cdea753d-2a67-4821-f495-7a021c37e45e",
        "id": "PWe7K9R5COvm",
        "colab": {
          "base_uri": "https://localhost:8080/",
          "height": 375
        }
      },
      "source": [
        "import os\n",
        "import sys\n",
        "import warnings\n",
        "import numpy\n",
        "import pandas as pd\n",
        "\n",
        "def warn(*args, **kwargs):\n",
        "    pass\n",
        "\n",
        "warnings.warn = warn\n",
        "warnings.simplefilter(action='ignore', category=FutureWarning)\n",
        "numpy.seterr(divide = 'ignore') \n",
        "#%% Module version check\n",
        "import tensorforce\n",
        "import tensorflow as tf\n",
        "\n",
        "#%% Actions & Rewards\n",
        "from tensortrade.strategies import TensorforceTradingStrategy\n",
        "#from tensortrade.rewards import PositionReward\n",
        "#from tensortrade.actions import FuturePositionStrategy\n",
        "\n",
        "from tensortrade.actions import DiscreteActionStrategy\n",
        "\n",
        "action_scheme = DiscreteActionStrategy(n_actions=20, instrument_symbol='BTC')\n",
        "\n",
        "from tensortrade.rewards import RiskAdjustedReturnStrategy\n",
        "\n",
        "reward_scheme = RiskAdjustedReturnStrategy(return_algorithm=\"sortino\")\n",
        "#reward_strategy = PositionReward()\n",
        "#action_strategy = FuturePositionStrategy(n_actions = 11)\n",
        "\n",
        "#%% Feature Pipeline\n",
        "from tensortrade.features.stationarity import FractionalDifference\n",
        "from tensortrade.features.scalers import MinMaxNormalizer\n",
        "from tensortrade.features import FeaturePipeline\n",
        "\n",
        "normalize = MinMaxNormalizer(inplace=True)\n",
        "difference = FractionalDifference(difference_order=0.6,\n",
        "                                  inplace=True)\n",
        "feature_pipeline = FeaturePipeline(steps=[])\n",
        "\n",
        "#%% Data Input (Exchanges)\n",
        "from tensortrade.exchanges.simulated import SimulatedExchange\n",
        "#from tensortrade.exchanges.simulated.future_exchange_position import FutureExchangePosition\n",
        "#csv_file = tf.keras.utils.get_file(\n",
        "#    'Coinbase_BTCUSD_1h.csv', 'http://www.cryptodatadownload.com/cdd/Coinbase_BTCUSD_1h.csv')\n",
        "#data = pd.read_csv(csv_file, skiprows=1, index_col=\"Date\")\n",
        "data = pd.read_csv('NEW_DF.csv',index_col = 0)\n",
        "data.columns = map(str.lower, data.columns)\n",
        "\n",
        "#data = data[data.index % 60 == 0]\n",
        "#data = data.reset_index(drop = True)\n",
        "\n",
        "\n",
        "#exchange = FutureExchangePosition(data, base_instrument = 'USD', exclude_close = True,\n",
        "#                          initial_balance = 50000, observe_position = True)\n",
        "\n",
        "exchange = SimulatedExchange(base_instrument='USD',\n",
        "                             data_frame=data,\n",
        "                             price_column='close',\n",
        "                             window_size=1,\n",
        "                             pretransform=False)\n",
        "\n",
        "#%% Agent Specification\n",
        "network_spec = [\n",
        "    dict(type='dense', size=128, activation=\"tanh\"),\n",
        "    dict(type='dense', size=64, activation=\"tanh\"),\n",
        "    dict(type='dense', size=32, activation=\"tanh\")\n",
        "]\n",
        "\n",
        "agent_spec = {\n",
        "    \"type\": \"a2c\",\n",
        "    \"learning_rate\": 0.0003,\n",
        "    \"discount\": 1.0,\n",
        "    \"estimate_terminal\": False,\n",
        "    \"max_episode_timesteps\": 20000,\n",
        "    \"network\": network_spec,\n",
        "    \"batch_size\": 100,\n",
        "    \"update_frequency\":100\n",
        "}\n",
        "\n",
        "\n",
        "#%%Environment Setup\n",
        "from tensortrade.environments import TradingEnvironment\n",
        "\n",
        "environment = TradingEnvironment(exchange=exchange,\n",
        "                                 action_strategy=action_scheme,\n",
        "                                 reward_strategy=reward_scheme,\n",
        "                                 feature_pipeline=feature_pipeline)\n",
        "\n",
        "\n",
        "strategy = TensorforceTradingStrategy(environment=environment, \n",
        "                                      agent_spec=agent_spec, save_best_agent=False)\n",
        "#%%Start Over\n",
        "performance = strategy.run(episodes=100, evaluation=False)\n",
        "\n",
        "#manually store agent\n",
        "#strategy.save_agent(directory = 'save/', filename = '01')\n",
        "\n",
        "#%% Restore and Continue \n",
        "'''\n",
        "strategy.restore_agent(directory = 'save/', filename = '01')\n",
        "performance = strategy.run(episodes=(strategy._runner.agent.episodes + 20), evaluation=False)\n",
        "'''\n",
        "#%% Analysis\n",
        "performance =(pd.DataFrame(data = self._performance.T, columns = ['balance','net_worth','open_amount','price']))\n",
        "learning_curve = pd.Series(strategy._runner.episode_rewards)\n",
        "learning_curve.plot()"
      ],
      "execution_count": 6,
      "outputs": [
        {
          "output_type": "error",
          "ename": "AttributeError",
          "evalue": "ignored",
          "traceback": [
            "\u001b[0;31m---------------------------------------------------------------------------\u001b[0m",
            "\u001b[0;31mAttributeError\u001b[0m                            Traceback (most recent call last)",
            "\u001b[0;32m<ipython-input-6-ab25beecd69b>\u001b[0m in \u001b[0;36m<module>\u001b[0;34m()\u001b[0m\n\u001b[1;32m     16\u001b[0m \u001b[0;34m\u001b[0m\u001b[0m\n\u001b[1;32m     17\u001b[0m \u001b[0;31m#%% Actions & Rewards\u001b[0m\u001b[0;34m\u001b[0m\u001b[0;34m\u001b[0m\u001b[0;34m\u001b[0m\u001b[0m\n\u001b[0;32m---> 18\u001b[0;31m \u001b[0;32mfrom\u001b[0m \u001b[0mtensortrade\u001b[0m\u001b[0;34m.\u001b[0m\u001b[0mstrategies\u001b[0m \u001b[0;32mimport\u001b[0m \u001b[0mTensorforceTradingStrategy\u001b[0m\u001b[0;34m\u001b[0m\u001b[0;34m\u001b[0m\u001b[0m\n\u001b[0m\u001b[1;32m     19\u001b[0m \u001b[0;31m#from tensortrade.rewards import PositionReward\u001b[0m\u001b[0;34m\u001b[0m\u001b[0;34m\u001b[0m\u001b[0;34m\u001b[0m\u001b[0m\n\u001b[1;32m     20\u001b[0m \u001b[0;31m#from tensortrade.actions import FuturePositionStrategy\u001b[0m\u001b[0;34m\u001b[0m\u001b[0;34m\u001b[0m\u001b[0;34m\u001b[0m\u001b[0m\n",
            "\u001b[0;32m/usr/local/lib/python3.6/dist-packages/tensortrade/__init__.py\u001b[0m in \u001b[0;36m<module>\u001b[0;34m()\u001b[0m\n\u001b[1;32m      1\u001b[0m \u001b[0;32mfrom\u001b[0m \u001b[0;34m.\u001b[0m \u001b[0;32mimport\u001b[0m \u001b[0mactions\u001b[0m\u001b[0;34m\u001b[0m\u001b[0;34m\u001b[0m\u001b[0m\n\u001b[0;32m----> 2\u001b[0;31m \u001b[0;32mfrom\u001b[0m \u001b[0;34m.\u001b[0m \u001b[0;32mimport\u001b[0m \u001b[0menvironments\u001b[0m\u001b[0;34m\u001b[0m\u001b[0;34m\u001b[0m\u001b[0m\n\u001b[0m\u001b[1;32m      3\u001b[0m \u001b[0;32mfrom\u001b[0m \u001b[0;34m.\u001b[0m \u001b[0;32mimport\u001b[0m \u001b[0mexchanges\u001b[0m\u001b[0;34m\u001b[0m\u001b[0;34m\u001b[0m\u001b[0m\n\u001b[1;32m      4\u001b[0m \u001b[0;32mfrom\u001b[0m \u001b[0;34m.\u001b[0m \u001b[0;32mimport\u001b[0m \u001b[0mfeatures\u001b[0m\u001b[0;34m\u001b[0m\u001b[0;34m\u001b[0m\u001b[0m\n\u001b[1;32m      5\u001b[0m \u001b[0;32mfrom\u001b[0m \u001b[0;34m.\u001b[0m \u001b[0;32mimport\u001b[0m \u001b[0mrewards\u001b[0m\u001b[0;34m\u001b[0m\u001b[0;34m\u001b[0m\u001b[0m\n",
            "\u001b[0;32m/usr/local/lib/python3.6/dist-packages/tensortrade/environments/__init__.py\u001b[0m in \u001b[0;36m<module>\u001b[0;34m()\u001b[0m\n\u001b[0;32m----> 1\u001b[0;31m \u001b[0;32mfrom\u001b[0m \u001b[0;34m.\u001b[0m\u001b[0mtrading_environment\u001b[0m \u001b[0;32mimport\u001b[0m \u001b[0mTradingEnvironment\u001b[0m\u001b[0;34m\u001b[0m\u001b[0;34m\u001b[0m\u001b[0m\n\u001b[0m\u001b[1;32m      2\u001b[0m \u001b[0;34m\u001b[0m\u001b[0m\n\u001b[1;32m      3\u001b[0m \u001b[0;34m\u001b[0m\u001b[0m\n\u001b[1;32m      4\u001b[0m _registry = {\n\u001b[1;32m      5\u001b[0m     'basic': {\n",
            "\u001b[0;32m/usr/local/lib/python3.6/dist-packages/tensortrade/environments/trading_environment.py\u001b[0m in \u001b[0;36m<module>\u001b[0;34m()\u001b[0m\n\u001b[1;32m     17\u001b[0m \u001b[0;32mimport\u001b[0m \u001b[0mpandas\u001b[0m \u001b[0;32mas\u001b[0m \u001b[0mpd\u001b[0m\u001b[0;34m\u001b[0m\u001b[0;34m\u001b[0m\u001b[0m\n\u001b[1;32m     18\u001b[0m \u001b[0;32mimport\u001b[0m \u001b[0mnumpy\u001b[0m \u001b[0;32mas\u001b[0m \u001b[0mnp\u001b[0m\u001b[0;34m\u001b[0m\u001b[0;34m\u001b[0m\u001b[0m\n\u001b[0;32m---> 19\u001b[0;31m \u001b[0;32mimport\u001b[0m \u001b[0mtensortrade\u001b[0m\u001b[0;34m.\u001b[0m\u001b[0mexchanges\u001b[0m \u001b[0;32mas\u001b[0m \u001b[0mexchanges\u001b[0m\u001b[0;34m\u001b[0m\u001b[0;34m\u001b[0m\u001b[0m\n\u001b[0m\u001b[1;32m     20\u001b[0m \u001b[0;32mimport\u001b[0m \u001b[0mtensortrade\u001b[0m\u001b[0;34m.\u001b[0m\u001b[0mactions\u001b[0m \u001b[0;32mas\u001b[0m \u001b[0mactions\u001b[0m\u001b[0;34m\u001b[0m\u001b[0;34m\u001b[0m\u001b[0m\n\u001b[1;32m     21\u001b[0m \u001b[0;32mimport\u001b[0m \u001b[0mtensortrade\u001b[0m\u001b[0;34m.\u001b[0m\u001b[0mrewards\u001b[0m \u001b[0;32mas\u001b[0m \u001b[0mrewards\u001b[0m\u001b[0;34m\u001b[0m\u001b[0;34m\u001b[0m\u001b[0m\n",
            "\u001b[0;31mAttributeError\u001b[0m: module 'tensortrade' has no attribute 'exchanges'"
          ]
        }
      ]
    }
  ]
}